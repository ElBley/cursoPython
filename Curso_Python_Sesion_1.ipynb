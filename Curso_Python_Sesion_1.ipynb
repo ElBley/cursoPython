{
  "nbformat": 4,
  "nbformat_minor": 0,
  "metadata": {
    "colab": {
      "name": "Copia de Curso Python Sesion 1",
      "provenance": [],
      "toc_visible": true,
      "collapsed_sections": []
    },
    "kernelspec": {
      "name": "python3",
      "display_name": "Python 3"
    },
    "language_info": {
      "name": "python"
    }
  },
  "cells": [
    {
      "cell_type": "markdown",
      "source": [
        "#Introducci�n a Python"
      ],
      "metadata": {
        "id": "TIc8D2tzN_Ih"
      }
    },
    {
      "cell_type": "markdown",
      "source": [
        "###Sintaxis y conceptos b�sicos"
      ],
      "metadata": {
        "id": "0N2XlwHtOH6w"
      }
    },
    {
      "cell_type": "markdown",
      "source": [
        "#### Introducci�n\n",
        "Python es un lenguaje de programaci�n muy reciente (1991). Con el paso de los a�os Python ha ido ganando m�s y m�s adeptos, principalmente derivado de la alta flexibilidad del lenguaje. Python es un lenguaje interpretado y din�mico, lo que significa que **Python no utiliza tipos** y los errores se descubren durante la ejecuci�n (aunque tambi�n es posible a�adir verificacadores est�ticos de c�digo).\n",
        "Python se distribuye como un compilador/m�quina vitual/entorno de consola, aunque tambi�n dispone de un entorno gr�fico nativo llamdo IDLE. A lo largo de este curso utilizaremos el entorno de google colab, ya que permite utilizar un entorno web, si necesidad de instalaci�n."
      ],
      "metadata": {
        "id": "robVVotvOUIG"
      }
    },
    {
      "cell_type": "markdown",
      "source": [
        "La indicaci�n ! en google colab permite ejecutar comandos de linux contra el servidor, en vez de comandos python. En este caso lanzamos !python para arrancar el entorno interactivo de python."
      ],
      "metadata": {
        "id": "N-H5Xk1fQ9QV"
      }
    },
    {
      "cell_type": "code",
      "execution_count": null,
      "metadata": {
        "colab": {
          "base_uri": "https://localhost:8080/"
        },
        "id": "uRNd0UbON5fP",
        "outputId": "8e4896f4-9e12-4ca3-e518-e506b911c62b"
      },
      "outputs": [
        {
          "output_type": "stream",
          "name": "stdout",
          "text": [
            "Python 3.7.13 (default, Mar 16 2022, 17:37:17) \n",
            "[GCC 7.5.0] on linux\n",
            "Type \"help\", \"copyright\", \"credits\" or \"license\" for more information.\n",
            ">>> exit\n",
            "Use exit() or Ctrl-D (i.e. EOF) to exit\n",
            ">>> exit()\n"
          ]
        }
      ],
      "source": [
        "!python"
      ]
    },
    {
      "cell_type": "markdown",
      "source": [
        "Tambi�n es posible escribir un programa python en un archivo y lanzarlo desde el terminal"
      ],
      "metadata": {
        "id": "0JyCd102RlBO"
      }
    },
    {
      "cell_type": "code",
      "source": [
        "!echo 'print(\"hello world\")' > python_script.py\n",
        "!python python_script.py"
      ],
      "metadata": {
        "colab": {
          "base_uri": "https://localhost:8080/"
        },
        "id": "l8kQOlXvR249",
        "outputId": "61e727f8-ec6e-4722-fdb6-1feab1a95a1e"
      },
      "execution_count": null,
      "outputs": [
        {
          "output_type": "stream",
          "name": "stdout",
          "text": [
            "hello world\n"
          ]
        }
      ]
    },
    {
      "cell_type": "markdown",
      "source": [
        "#### Consola\n",
        "La salida por consola se realiza mediante la funci�n print() y la entrada se realiza mediante la funci�n input()"
      ],
      "metadata": {
        "id": "bnW3By3VOTEm"
      }
    },
    {
      "cell_type": "code",
      "source": [
        "x = input(\"Introduzca un numero \")\n",
        "x = float(x)\n",
        "print(\"El cuadrado de {0} es {1}\".format(x,x**2))"
      ],
      "metadata": {
        "colab": {
          "base_uri": "https://localhost:8080/"
        },
        "id": "pdzvN41CSbQW",
        "outputId": "a9e6b2f1-a18c-4137-a0f9-a0adcbecbb9c"
      },
      "execution_count": null,
      "outputs": [
        {
          "output_type": "stream",
          "name": "stdout",
          "text": [
            "Introduzca un numero4\n",
            "El cuadrado de 4.0 es 16.0\n"
          ]
        }
      ]
    },
    {
      "cell_type": "markdown",
      "source": [
        "## Tipos de datos simples"
      ],
      "metadata": {
        "id": "0f0wvZoMTJ1F"
      }
    },
    {
      "cell_type": "markdown",
      "source": [
        "Existen tres agrupaciones de los tipos de datos en python: numeros, cadenas y listas. No se distingue entre el n�mero de bytes que puede tener un n�mero, a diferencia de C, donde existen los short int y long int. "
      ],
      "metadata": {
        "id": "tvuX0GN_Tb2V"
      }
    },
    {
      "cell_type": "markdown",
      "source": [
        "#### Numeros\n",
        "Existen numeros enteros y numeros reales, pero python no declara las variables de un tipo est�tico, por lo que una variable puede contener un entero en un momento, y un real despu�s."
      ],
      "metadata": {
        "id": "cCSNl3C3UG_v"
      }
    },
    {
      "cell_type": "code",
      "source": [
        "i = 5\n",
        "print(i)\n",
        "i = 5.2\n",
        "print (i)\n",
        "i,j = 5,5.2\n",
        "print(i,j)"
      ],
      "metadata": {
        "colab": {
          "base_uri": "https://localhost:8080/"
        },
        "id": "WV2c6iOUTUaN",
        "outputId": "11453fd0-3a27-40cf-889a-06873aabee79"
      },
      "execution_count": null,
      "outputs": [
        {
          "output_type": "stream",
          "name": "stdout",
          "text": [
            "5\n",
            "5.2\n",
            "5 5.2\n"
          ]
        }
      ]
    },
    {
      "cell_type": "markdown",
      "source": [
        "####Operadores de N�meros"
      ],
      "metadata": {
        "id": "GbLcCPHnUXQQ"
      }
    },
    {
      "cell_type": "code",
      "source": [
        "#comparacion\n",
        "print(6==7)\n",
        "#suma\n",
        "print(2+7)\n",
        "#resta\n",
        "print(7-2)\n",
        "#Mutiplicacion\n",
        "print(6*2)\n",
        "#Division\n",
        "print(4/2)\n",
        "#Resto\n",
        "print(7%2)\n",
        "#potencia\n",
        "print(2**3)\n",
        "#Division entera\n",
        "print(7//2)\n",
        "#incremento\n",
        "x = 0\n",
        "x+=1\n",
        "print(x)"
      ],
      "metadata": {
        "colab": {
          "base_uri": "https://localhost:8080/"
        },
        "id": "y0W9avuuVCz9",
        "outputId": "953f943e-662d-4f19-c338-f54414163f98"
      },
      "execution_count": null,
      "outputs": [
        {
          "output_type": "stream",
          "name": "stdout",
          "text": [
            "False\n",
            "9\n",
            "5\n",
            "12\n",
            "2.0\n",
            "1\n",
            "8\n",
            "3\n",
            "1\n"
          ]
        }
      ]
    },
    {
      "cell_type": "markdown",
      "source": [
        "La funci�n str() convierte un n�mero en una cadena, existen otras funciones generalistas, como por ejemplo abs() que devuelve el valor absoluto de un numero"
      ],
      "metadata": {
        "id": "NKm55WABWgWv"
      }
    },
    {
      "cell_type": "markdown",
      "source": [
        "#### Cadenas\n",
        "Las cadenas se delimitan con comillas simples o dobles. Una cadena puede ocupar m�s de una l�nea utilizando '\\'. Tambi�n admite c�digos de escape como puede ser \\n. Si utilizas las comillas de forma triplicada cogen todo el contenido de manera literal, incluyendo los saltos de l�nea."
      ],
      "metadata": {
        "id": "e4iVCl3GWxtm"
      }
    },
    {
      "cell_type": "code",
      "source": [
        "cadena1 = \"Cadena con un\\n\\\n",
        "salto de linea\"\n",
        "print(cadena1)\n",
        "\n",
        "cadena2=\"\"\"Cadena con un\n",
        "salto de linea\"\"\"\n",
        "print(cadena2)"
      ],
      "metadata": {
        "colab": {
          "base_uri": "https://localhost:8080/"
        },
        "id": "7-pFn2vAX0Tm",
        "outputId": "e7046ca3-8c3f-4ff8-e7a4-67225135bcd2"
      },
      "execution_count": null,
      "outputs": [
        {
          "output_type": "stream",
          "name": "stdout",
          "text": [
            "Cadena con un\n",
            "salto de linea\n",
            "Cadena con un\n",
            "salto de linea\n"
          ]
        }
      ]
    },
    {
      "cell_type": "markdown",
      "source": [
        "Las cadenas pueden utilizar los operadores +  y *"
      ],
      "metadata": {
        "id": "A1rN7BL6Yfx3"
      }
    },
    {
      "cell_type": "code",
      "source": [
        "print(\"Hola\" + \" mundo\")\n",
        "print(\"Paco\"*4)"
      ],
      "metadata": {
        "colab": {
          "base_uri": "https://localhost:8080/"
        },
        "id": "2HI9vXVEYO_G",
        "outputId": "8c98501f-65e2-4e7f-a6ab-4c80c8c38810"
      },
      "execution_count": null,
      "outputs": [
        {
          "output_type": "stream",
          "name": "stdout",
          "text": [
            "Hola mundo\n",
            "PacoPacoPacoPaco\n"
          ]
        }
      ]
    },
    {
      "cell_type": "markdown",
      "source": [
        "Es posible acceder a los elementos de una cadena utilizando corchetes. La funcion len() devuelve el tama�o de la cadena"
      ],
      "metadata": {
        "id": "25SWnN03ZGOF"
      }
    },
    {
      "cell_type": "code",
      "source": [
        "palabra = \"UvigoMotorsport\"\n",
        "print(palabra[5])\n",
        "print(palabra[0:5])\n",
        "print(palabra[5:len(palabra)])\n",
        "print(len(palabra))"
      ],
      "metadata": {
        "colab": {
          "base_uri": "https://localhost:8080/"
        },
        "id": "zURiNExQZQf9",
        "outputId": "d8e4e11a-8058-446c-81e9-73848a7fbc8d"
      },
      "execution_count": null,
      "outputs": [
        {
          "output_type": "stream",
          "name": "stdout",
          "text": [
            "M\n",
            "Uvigo\n",
            "Motorsport\n",
            "15\n"
          ]
        }
      ]
    },
    {
      "cell_type": "markdown",
      "source": [
        "Las funciones para pasar de cadena a n�mero son int() y float, mientras que para pasar de n�mero a cadena se utiliza str().\n",
        "Las cadenas son un tipo de objeto, y como tal tienen m�todos propios, como por ejemplo *upper()*, *lower()* o *capitalize()*"
      ],
      "metadata": {
        "id": "dOzaSTHmaoz3"
      }
    },
    {
      "cell_type": "code",
      "source": [
        "palabra = \"UviGoMotORsPort\"\n",
        "print(palabra.upper())\n",
        "print(palabra.lower())\n",
        "print(palabra.capitalize())"
      ],
      "metadata": {
        "colab": {
          "base_uri": "https://localhost:8080/"
        },
        "id": "2MBMA9XDbbcO",
        "outputId": "2bbe8363-30bb-47ee-d016-de2ae6304667"
      },
      "execution_count": null,
      "outputs": [
        {
          "output_type": "stream",
          "name": "stdout",
          "text": [
            "UVIGOMOTORSPORT\n",
            "uvigomotorsport\n",
            "Uvigomotorsport\n"
          ]
        }
      ]
    },
    {
      "cell_type": "markdown",
      "source": [
        "##Condicionales\n",
        "En lenguajes como C, la condici�n de una sentencia de decisi�n es necesario delimitarla ente par�ntesis, en python no. Adem�s en python no se utilizan llaves para delimitar el c�digo ejecutado, si no que se utiliza la indentaci�n, predecida por dos puntos. "
      ],
      "metadata": {
        "id": "Em9KyFRSbPSg"
      }
    },
    {
      "cell_type": "code",
      "source": [
        "x = input(\"Introduce un numero \")\n",
        "x = int(x)\n",
        "if x==0:\n",
        "  print(\"El numero es 0\")\n",
        "elif x%2==0:\n",
        "  print(\"El numero es par\")\n",
        "else:\n",
        "  print(\"El numero es impar\")"
      ],
      "metadata": {
        "colab": {
          "base_uri": "https://localhost:8080/"
        },
        "id": "FlkvowLKeHY4",
        "outputId": "453fb6ef-b171-4dad-8f4e-dfaeb599ea09"
      },
      "execution_count": null,
      "outputs": [
        {
          "output_type": "stream",
          "name": "stdout",
          "text": [
            "Introduce un numero 2\n",
            "El numero es par\n"
          ]
        }
      ]
    },
    {
      "cell_type": "markdown",
      "source": [
        "En python 3 la indentaci�n es imprescindible realizarla con espacios, a diferencia de python 2 que aceptaba tanto espacios como tabuladores. La mayor�a de editores de texto avanzados emplean 4 espacios cuando se pulsa el tabulador. Pero de editar un editor m�s crudo como leafpad o nano, y se utiliza el tab, python lanzar� una excepcion IndentationError"
      ],
      "metadata": {
        "id": "gla0QqOUekB3"
      }
    },
    {
      "cell_type": "markdown",
      "source": [
        "##Bucles"
      ],
      "metadata": {
        "id": "hVZNGfd5fgxA"
      }
    },
    {
      "cell_type": "markdown",
      "source": [
        "En python existen los bucles while() y for(). Como en la mayor�a de lenguajes, se reeval�a la condici�n al inicio de cada bucle, y en caso de que la condici�n devuelva true, se sale del bucle. "
      ],
      "metadata": {
        "id": "IgTSpJoO-kSY"
      }
    },
    {
      "cell_type": "code",
      "source": [
        "x = 0\n",
        "while x< 10:\n",
        "  print(x)\n",
        "  x+=1\n",
        "\n",
        "else:\n",
        "  print(\"He salido del bucle\")"
      ],
      "metadata": {
        "colab": {
          "base_uri": "https://localhost:8080/"
        },
        "id": "0W-Fenuafip4",
        "outputId": "d57b7d3a-a417-4469-c235-3d44271a9337"
      },
      "execution_count": null,
      "outputs": [
        {
          "output_type": "stream",
          "name": "stdout",
          "text": [
            "0\n",
            "1\n",
            "2\n",
            "3\n",
            "4\n",
            "5\n",
            "6\n",
            "7\n",
            "8\n",
            "9\n",
            "He salido el bucle\n"
          ]
        }
      ]
    },
    {
      "cell_type": "code",
      "source": [
        "for i in range(10):\n",
        "  print(i)\n",
        "\n",
        "else:\n",
        "  print(\"He salido del bucle\")"
      ],
      "metadata": {
        "colab": {
          "base_uri": "https://localhost:8080/"
        },
        "id": "rE6yaC2uEdQP",
        "outputId": "571dc836-4619-4f35-d6b6-19ed042e70df"
      },
      "execution_count": null,
      "outputs": [
        {
          "output_type": "stream",
          "name": "stdout",
          "text": [
            "0\n",
            "1\n",
            "2\n",
            "3\n",
            "4\n",
            "5\n",
            "6\n",
            "7\n",
            "8\n",
            "9\n",
            "He salido del bucle\n"
          ]
        }
      ]
    },
    {
      "cell_type": "code",
      "source": [
        "for i in range(0,10,2):\n",
        "  print(i)\n",
        "\n",
        "else:\n",
        "  print(\"He salido del bucle\")"
      ],
      "metadata": {
        "colab": {
          "base_uri": "https://localhost:8080/"
        },
        "id": "EmQ-uF5aEvPQ",
        "outputId": "082d5c30-54b6-409b-f2d6-2bbddbbe0106"
      },
      "execution_count": null,
      "outputs": [
        {
          "output_type": "stream",
          "name": "stdout",
          "text": [
            "0\n",
            "2\n",
            "4\n",
            "6\n",
            "8\n",
            "He salido del bucle\n"
          ]
        }
      ]
    },
    {
      "cell_type": "markdown",
      "source": [
        "##Funciones\n",
        "Las funciones permiten agrupar en una sentencia un bloque de c�digo. Las funciones se definen con la palabra clave def seguido por el nombre de la funci�n, y entre par�ntesis la lista de par�metros. Despu�s los dos puntos y el bloque de c�digo tabulado."
      ],
      "metadata": {
        "id": "kFXVJ53fFN1P"
      }
    },
    {
      "cell_type": "code",
      "source": [
        "def factorial(n):\n",
        "  if n==1:\n",
        "    return 1\n",
        "  else:\n",
        "    return n*factorial(n-1)\n",
        "\n",
        "print(factorial(6))"
      ],
      "metadata": {
        "colab": {
          "base_uri": "https://localhost:8080/"
        },
        "id": "5BEOddHXuf6g",
        "outputId": "01c66728-0b10-4fb5-fac6-78050e9318a2"
      },
      "execution_count": null,
      "outputs": [
        {
          "output_type": "stream",
          "name": "stdout",
          "text": [
            "720\n"
          ]
        }
      ]
    },
    {
      "cell_type": "markdown",
      "source": [
        "Las funciones siempre devuelven un valor, incluso si no tiene sentencia return, el valor ser�a None, que es el equivalente de python a los valores NULL."
      ],
      "metadata": {
        "id": "S4D9nLw5vAcn"
      }
    },
    {
      "cell_type": "markdown",
      "source": [
        "###Paso de par�metros\n",
        "Dependiendo del tipo de dato pasado, se pasa por valor o por referencia. Cuando se trata de un valor inmutable, como una cadena, numero o tupla, se pasa por valor. Cuando se se pasa una lista, objeto o diccionario se pasa por referencia.\n",
        "En verdad, python siempre pasa los par�metros por referencia, pero al asignarlos, se realiza la asignacion sobre una copia, por lo que efectivamente se pasan por copia. "
      ],
      "metadata": {
        "id": "qP22XMlAvPAH"
      }
    },
    {
      "cell_type": "code",
      "source": [
        "s = \"hola\"\n",
        "def concatMundo(cad):\n",
        "  cad += \", mundo\"\n",
        "print(s)\n",
        "\n",
        "a = [\"h\",\"o\",\"l\",\"a\"]\n",
        "concatMundo(a)\n",
        "print(a)"
      ],
      "metadata": {
        "colab": {
          "base_uri": "https://localhost:8080/"
        },
        "id": "GKBj6YVbwRve",
        "outputId": "b7e6e923-ab4b-4052-f581-bffce2ee204c"
      },
      "execution_count": null,
      "outputs": [
        {
          "output_type": "stream",
          "name": "stdout",
          "text": [
            "hola\n",
            "['h', 'o', 'l', 'a', ',', ' ', 'm', 'u', 'n', 'd', 'o']\n"
          ]
        }
      ]
    },
    {
      "cell_type": "markdown",
      "source": [
        "Es posible declarar una funci�n con valores por defecto en los par�metros, por lo que si un par�metro no existe en la llamada, se coge el valor por defecto"
      ],
      "metadata": {
        "id": "n9WFf0IGzAF1"
      }
    },
    {
      "cell_type": "code",
      "source": [
        "def funcion(a,b,c=10,d=100):\n",
        "  print(a,b,c,d)\n",
        "  \n",
        "funcion(1,2)\n",
        "funcion(1,2,3)\n",
        "funcion(1,2,d=4)\n",
        "funcion(b=2,a=1)"
      ],
      "metadata": {
        "colab": {
          "base_uri": "https://localhost:8080/"
        },
        "id": "fX28KJHdy_kb",
        "outputId": "e358bdf5-8511-4b93-e58a-41c7a7551a0b"
      },
      "execution_count": null,
      "outputs": [
        {
          "output_type": "stream",
          "name": "stdout",
          "text": [
            "1 2 10 100\n",
            "1 2 3 100\n",
            "1 2 10 4\n",
            "1 2 10 100\n"
          ]
        }
      ]
    },
    {
      "cell_type": "markdown",
      "source": [
        "Python tambi�n permite devolver m�s de un elemento mediante el return, a diferencia de otros lenguajes"
      ],
      "metadata": {
        "id": "Kx8vbmbd0HMD"
      }
    },
    {
      "cell_type": "code",
      "source": [
        "def cogeDatos():\n",
        "  nombre = input(\"nombre: \")\n",
        "  apellidos = input(\"apellidos: \")\n",
        "  edad = input(\"edad: \")\n",
        "  return nombre, apellidos, edad\n",
        "\n",
        "nombre,apellidos,edad = cogeDatos()\n",
        "print(nombre,apellidos,edad)"
      ],
      "metadata": {
        "colab": {
          "base_uri": "https://localhost:8080/"
        },
        "id": "VqZWQ7BB0W1_",
        "outputId": "e4a72de2-f725-4f8b-ca33-15b0fcb2aea9"
      },
      "execution_count": null,
      "outputs": [
        {
          "output_type": "stream",
          "name": "stdout",
          "text": [
            "nombre: c\n",
            "apellidos: f\n",
            "edad: q\n",
            "c f q\n"
          ]
        }
      ]
    },
    {
      "cell_type": "markdown",
      "source": [
        "De manera similar a java, python dispone de documentacion integrada, llamada docstrings que contienen documentacion sobre una entidad de c�digo. Para documentar una funci�n se sit�a con triples comillas en la primera l�nea tras la definici�n. Esta documentaci�n est� disponible mediante la funci�n help()"
      ],
      "metadata": {
        "id": "NIkzo71d1mlv"
      }
    },
    {
      "cell_type": "code",
      "source": [
        "def cogeDatos():\n",
        "  \"\"\"Devuelve nombre, apellidos y edad recogidos de consola\"\"\"\n",
        "  nombre = input(\"nombre: \")\n",
        "  apellidos = input(\"apellidos: \")\n",
        "  edad = input(\"edad: \")\n",
        "  return nombre, apellidos, edad\n",
        "\n",
        "help(cogeDatos)"
      ],
      "metadata": {
        "colab": {
          "base_uri": "https://localhost:8080/"
        },
        "id": "iH8j650_17h6",
        "outputId": "fe746a24-4a88-4250-ca5b-282888f99db4"
      },
      "execution_count": null,
      "outputs": [
        {
          "output_type": "stream",
          "name": "stdout",
          "text": [
            "Help on function cogeDatos in module __main__:\n",
            "\n",
            "cogeDatos()\n",
            "    Devuelve nombre, apellidos y edad recogidos de consola\n",
            "\n"
          ]
        }
      ]
    },
    {
      "cell_type": "markdown",
      "source": [
        "## Problema\n",
        "Escribe un programa que acepte tres par�metros: dos n�meros y un car�cter. Si el car�cter es '+' los n�meros se suman, con '-' se restan, con '*' se multiplican, con '/' se dividen, y con '^' se\n",
        "eleva el primero al segundo. Crea una funci�n que acepte estos tres datos y devuelva el resultado del c�lculo. Crea otra funci�n que pida los datos necesarios."
      ],
      "metadata": {
        "id": "fusZ9QBu2TE1"
      }
    },
    {
      "cell_type": "code",
      "source": [
        "def cogeDatos():\n",
        "  x = input(\"Primer numero: \")\n",
        "  x = int(x)\n",
        "  y = input(\"Segundo numero: \")\n",
        "  y = int(y)\n",
        "  signo = input(\"Signo: \")\n",
        "  return x, y,signo \n",
        "\n",
        "def calcular(x, y, signo):\n",
        "  if signo == \"+\":\n",
        "    print(x+y)\n",
        "  elif signo == \"-\":\n",
        "    print(x-y)\n",
        "  elif signo == \"*\":\n",
        "    print(x*y)\n",
        "  elif signo == \"/\":\n",
        "    print(x/y)\n",
        "  elif signo == \"^\":\n",
        "    print(x^y)\n",
        "  else:\n",
        "    print(\"El signo no es valido\")\n",
        "\n",
        "x, y, signo = cogeDatos()\n",
        "calcular(x, y, signo)"
      ],
      "metadata": {
        "id": "W4XsTNg027FV",
        "outputId": "f91d004a-89e1-4f46-c4c5-5a6c7af645e6",
        "colab": {
          "base_uri": "https://localhost:8080/"
        }
      },
      "execution_count": null,
      "outputs": [
        {
          "output_type": "stream",
          "name": "stdout",
          "text": [
            "Primer numero: 1\n",
            "Segundo numero: 1\n",
            "Signo: +\n",
            "2\n"
          ]
        }
      ]
    },
    {
      "cell_type": "markdown",
      "source": [
        "#Clases y Objetos\n"
      ],
      "metadata": {
        "id": "ouwycwNT2-am"
      }
    },
    {
      "cell_type": "markdown",
      "source": [
        "Hasta ahora hemos visto componentes de programaci�n estructurada, como puede tener un lenguaje como C. Pero Python tambi�n permite Programaci�n Orientada a Objetos. El modelo de python se basa puramente en objetos, aunque algunos est�n marcados con denominaci�n de clase. Estas clases existen en tiempo de ejecuci�n, y adem�s son manipulables, permitiendo reflexi�n estructural en ellas."
      ],
      "metadata": {
        "id": "oks8FzZA7-Yz"
      }
    },
    {
      "cell_type": "markdown",
      "source": [
        "Para utilizar python es muy habitual recurrir a librer�as externas que ofrecen funcionalidades extra. Estas librer�as han de estar instaladas en el sistema, y se acceden mediante la palabra reservada *import*"
      ],
      "metadata": {
        "id": "LoVBQomj9CqI"
      }
    },
    {
      "cell_type": "code",
      "source": [
        "import math\n",
        "print(math.pi)"
      ],
      "metadata": {
        "colab": {
          "base_uri": "https://localhost:8080/"
        },
        "id": "MbukNCpo9VNd",
        "outputId": "c376d774-684b-4a86-8da7-75f51cf42244"
      },
      "execution_count": null,
      "outputs": [
        {
          "output_type": "stream",
          "name": "stdout",
          "text": [
            "3.141592653589793\n"
          ]
        }
      ]
    },
    {
      "cell_type": "markdown",
      "source": [
        "Un import simplemente consiste en un archivo python con funciones y clases. Para saber si se est� en el programa principal se puede utilizar la variable global \\_\\_name__. Si est� siendo importado como m�dulo devolver� el nombre del m�dulo, mientras que si est� en el programa principal devolver� main."
      ],
      "metadata": {
        "id": "PylNUaoG9jUp"
      }
    },
    {
      "cell_type": "markdown",
      "source": [
        "##Clases\n",
        "La encapsulaci�n dentro de python se realizan mediante m�todos dentro de la propia clase. En python, cuando tienes un m�todo dentro de una clase, es obligatorio inclu�r la referencia self de manera expl�cita. Esta es la referencia a la clase que contiene el m�todo. El constructor de la clase es un m�todo llamado \\_\\_init__(self). Si un m�todo necesita m�s par�metros, estos de definir�n posteriormente al self. \n",
        "Los atributos de la clase se definen cuando son utilizados por primera vez. Se declaran a trav�s de self, bien dentro del constructor de la clase o al ser utilizados por primera vez en una funci�n."
      ],
      "metadata": {
        "id": "x72_0Z-iXYri"
      }
    },
    {
      "cell_type": "code",
      "source": [
        "class Punto:\n",
        "  def __init__(self,x,y):\n",
        "    self.__x = x\n",
        "    self.__y = y\n",
        "  \n",
        "  def get_x(self):\n",
        "    return self.__x\n",
        "  \n",
        "  def get_y(self):\n",
        "    return self.__y\n",
        "\n",
        "p1 = Punto(5,8)\n",
        "print(\"({0}, {1})\".format(p1.get_x(), p1.get_y()))"
      ],
      "metadata": {
        "colab": {
          "base_uri": "https://localhost:8080/"
        },
        "id": "DeuowWXy9hWq",
        "outputId": "c0287c03-c1b6-475c-e7d1-dd37df42347c"
      },
      "execution_count": null,
      "outputs": [
        {
          "output_type": "stream",
          "name": "stdout",
          "text": [
            "(5, 8)\n"
          ]
        }
      ]
    },
    {
      "cell_type": "markdown",
      "source": [
        "Python no distingue entre visibilidad p�blica y privada. Pero las variables se pueden nombrar con el prefijo \\_\\_ y ser� m�s dif�cil acceder a ellas desde fuera de la clase. \n",
        "Para evitar problemas de visibilidad de atributos, python desarroll� las propiedades. Las propiedades se crean con el decorador @property, y se consideran mejor pr�ctica al uso de getters y setters. Una propiedad no es necesario que permita tanto lectura como escritura."
      ],
      "metadata": {
        "id": "f3hEB5-dcAHy"
      }
    },
    {
      "cell_type": "code",
      "source": [
        "class Punto:\n",
        "  def __init__(self,x,y):\n",
        "    self.x=x\n",
        "    self.y=y\n",
        "  \n",
        "  @property\n",
        "  def x(self):\n",
        "    return self.__x\n",
        "  \n",
        "  @x.setter\n",
        "  def x(self,x):\n",
        "    self.__x = x\n",
        "  \n",
        "  @property\n",
        "  def y(self):\n",
        "    return self.__y\n",
        "  \n",
        "  @y.setter\n",
        "  def y(self,y):\n",
        "    self.__y=y\n",
        "\n",
        "p1 = Punto(3,7)\n",
        "p1.x = 10\n",
        "print(\"({0}, {1})\".format(p1.x, p1.y))"
      ],
      "metadata": {
        "colab": {
          "base_uri": "https://localhost:8080/"
        },
        "id": "5_kq4WtWdY_2",
        "outputId": "64e6e396-fdde-4242-d655-64752df9e49e"
      },
      "execution_count": null,
      "outputs": [
        {
          "output_type": "stream",
          "name": "stdout",
          "text": [
            "(10, 7)\n"
          ]
        }
      ]
    },
    {
      "cell_type": "markdown",
      "source": [
        "La funcion isinstance acepta dos par�metros, un objeto y una clase, y devuelve true si el primero es una instancia del segundo"
      ],
      "metadata": {
        "id": "noUNVpYifFaS"
      }
    },
    {
      "cell_type": "code",
      "source": [
        "print(isinstance(10,int))\n",
        "print(isinstance(10,str))"
      ],
      "metadata": {
        "colab": {
          "base_uri": "https://localhost:8080/"
        },
        "id": "Ja8Z9ieRnQOx",
        "outputId": "433c06ab-d50c-4180-a8a6-d2cc08b79a05"
      },
      "execution_count": null,
      "outputs": [
        {
          "output_type": "stream",
          "name": "stdout",
          "text": [
            "True\n",
            "False\n"
          ]
        }
      ]
    },
    {
      "cell_type": "markdown",
      "source": [
        "Las clases de los tipos primitivos de python son int, long, float, str, bool. El m�dulo numbers tambien tiene ciertas clases de tipos b�sicos �tiles: numbers.Number, numbers.Integral, numbers.Real"
      ],
      "metadata": {
        "id": "9oMtqkAKngwB"
      }
    },
    {
      "cell_type": "markdown",
      "source": [
        "##Metodos\n",
        "###M�todos Est�ticos\n",
        "Los m�todos est�ticos son aquellos que pertenecen a la clase, y por lo tanto no llevan el par�metro self. Se utiliza el decorador @staticmethod.\n"
      ],
      "metadata": {
        "id": "N2NgfXfhn5_K"
      }
    },
    {
      "cell_type": "code",
      "source": [
        "class Punto:\n",
        "  @staticmethod\n",
        "  def get_org():\n",
        "    return Punto(0, 0)\n",
        "  \n",
        "  def __init__(self, x, y):\n",
        "    self.x = x\n",
        "    self.y = y\n",
        "\n",
        "  @property\n",
        "  def x(self):\n",
        "    return self.__x\n",
        "  \n",
        "  @x.setter\n",
        "  def x(self, v):\n",
        "    self.__x = v\n",
        "\n",
        "  @property\n",
        "  def y(self):\n",
        "    return self.__y\n",
        "\n",
        "  @y.setter\n",
        "  def y(self, v):\n",
        "    self.__y = v\n",
        "\n",
        "p1 = Punto(5, 6)\n",
        "print(\"({0}, {1})\".format(p1.x, p1.y))\n",
        "p0 = Punto.get_org()\n",
        "print(\"({0}, {1})\".format(p0.x, p0.y))\n"
      ],
      "metadata": {
        "colab": {
          "base_uri": "https://localhost:8080/"
        },
        "id": "EAUyvX0Oosep",
        "outputId": "8b9ac548-d13e-4239-b1cd-460c2df86e7d"
      },
      "execution_count": null,
      "outputs": [
        {
          "output_type": "stream",
          "name": "stdout",
          "text": [
            "(5, 6)\n",
            "(0, 0)\n"
          ]
        }
      ]
    },
    {
      "cell_type": "markdown",
      "source": [
        "###Metodos Especiales\n",
        "Existen ciertas funciones en python que el int�rprete llamar� cuando est� utilizando algunos operadores. Por ejemplo, el m�todo \\_\\_str__() ser� el m�todo que se utilice para convertir el objeto a texto mediante la funci�n str(). "
      ],
      "metadata": {
        "id": "kNTlUtKwqSwJ"
      }
    },
    {
      "cell_type": "markdown",
      "source": [
        "| Funcion | Operador  |\n",
        "|-------------------|----|\n",
        "| \\_\\_gt__(self,otro) | >  |\n",
        "| \\_\\_ge__(self,otro) | >= |   \n",
        "| \\_\\_lt__(self,otro) |  <  |\n",
        "| \\_\\_le__(self,otro) | <=   |\n",
        "| \\_\\_eq__(self,otro) |  ==  |\n",
        "| \\_\\_neq__(self,otro) |  !=  |\n",
        "| \\_\\_add__(self,otro) |  +  |\n",
        "| \\_\\_sub__(self,otro) |  -  |\n",
        "| \\_\\_mul__(self,otro) |  *  |\n",
        "| \\_\\_truediv__(self,otro) |  /  |\n",
        "| \\_\\_floordiv__(self,otro) |  //  |\n",
        "| \\_\\_mod__(self,otro) |  %  |            "
      ],
      "metadata": {
        "id": "3LGEO8y-rK_5"
      }
    },
    {
      "cell_type": "code",
      "source": [
        "class Punto:\n",
        "  @staticmethod\n",
        "  def get_org():\n",
        "    return Punto(0, 0)\n",
        "  \n",
        "  def __init__(self, x, y):\n",
        "    self.x = x\n",
        "    self.y = y\n",
        "\n",
        "  @property\n",
        "  def x(self):\n",
        "    return self.__x\n",
        "  \n",
        "  @x.setter\n",
        "  def x(self, v):\n",
        "    self.__x = v\n",
        "\n",
        "  @property\n",
        "  def y(self):\n",
        "    return self.__y\n",
        "\n",
        "  @y.setter\n",
        "  def y(self, v):\n",
        "    self.__y = v\n",
        "  \n",
        "  def __eq__(self,p2):\n",
        "    if not (isinstance(p2,Punto)):\n",
        "      return false\n",
        "    else:\n",
        "      return self.__x == p2.x and self.__y == p2.y\n",
        "\n",
        "\n",
        "p1 = Punto(5, 6)\n",
        "p2 = Punto(5,6)\n",
        "p3= Punto (5,9)\n",
        "print(p1==p3)\n",
        "print(p1==p2)\n"
      ],
      "metadata": {
        "colab": {
          "base_uri": "https://localhost:8080/"
        },
        "id": "tx5JaYgCseZh",
        "outputId": "347ef802-5faa-4ea5-cca4-e615a42751f9"
      },
      "execution_count": null,
      "outputs": [
        {
          "output_type": "stream",
          "name": "stdout",
          "text": [
            "False\n",
            "True\n"
          ]
        }
      ]
    },
    {
      "cell_type": "markdown",
      "source": [
        "Adem�s, existen una serie de m�todos especiales orientados a trabajar con contenedores. "
      ],
      "metadata": {
        "id": "aX1_OrWFuCIL"
      }
    },
    {
      "cell_type": "markdown",
      "source": [
        "| Funcion | explicacion  |\n",
        "|-------------------|----|\n",
        "| \\_\\_len__(self) | numero de elementos  |\n",
        "| \\_\\_getitem__(self,i) | Obtener elemento i |\n",
        "| \\_\\_setitem__(self,i,x) | modificar elemento i con valor x |\n",
        "| \\_\\_delitem__(self,i) | eliminar posicion i |\n",
        "| \\_\\_contains__(self,x) | contiene x |\n"
      ],
      "metadata": {
        "id": "aJpOtz39uQAC"
      }
    },
    {
      "cell_type": "markdown",
      "source": [
        "##Reflexi�n\n",
        "Python es un lenguaje de programaci�n completamente din�mico, que no realiza apenas comprobaciones en tiempo de ejecuci�n. Cuando se llama a un m�todo que no se encuentra en un objeto se lanza la excepcion AttributeError. \n",
        "Para interrogar a un objeto sobre su clase o miembros se utiliza la funcion dir()"
      ],
      "metadata": {
        "id": "wYN_SMPkvFnK"
      }
    },
    {
      "cell_type": "code",
      "source": [
        "import math\n",
        "dir(math)"
      ],
      "metadata": {
        "colab": {
          "base_uri": "https://localhost:8080/"
        },
        "id": "Sh5XqEqau4O9",
        "outputId": "79ea1153-ea0b-4de2-d6cf-04aef4d9b714"
      },
      "execution_count": null,
      "outputs": [
        {
          "output_type": "execute_result",
          "data": {
            "text/plain": [
              "['__doc__',\n",
              " '__loader__',\n",
              " '__name__',\n",
              " '__package__',\n",
              " '__spec__',\n",
              " 'acos',\n",
              " 'acosh',\n",
              " 'asin',\n",
              " 'asinh',\n",
              " 'atan',\n",
              " 'atan2',\n",
              " 'atanh',\n",
              " 'ceil',\n",
              " 'copysign',\n",
              " 'cos',\n",
              " 'cosh',\n",
              " 'degrees',\n",
              " 'e',\n",
              " 'erf',\n",
              " 'erfc',\n",
              " 'exp',\n",
              " 'expm1',\n",
              " 'fabs',\n",
              " 'factorial',\n",
              " 'floor',\n",
              " 'fmod',\n",
              " 'frexp',\n",
              " 'fsum',\n",
              " 'gamma',\n",
              " 'gcd',\n",
              " 'hypot',\n",
              " 'inf',\n",
              " 'isclose',\n",
              " 'isfinite',\n",
              " 'isinf',\n",
              " 'isnan',\n",
              " 'ldexp',\n",
              " 'lgamma',\n",
              " 'log',\n",
              " 'log10',\n",
              " 'log1p',\n",
              " 'log2',\n",
              " 'modf',\n",
              " 'nan',\n",
              " 'pi',\n",
              " 'pow',\n",
              " 'radians',\n",
              " 'remainder',\n",
              " 'sin',\n",
              " 'sinh',\n",
              " 'sqrt',\n",
              " 'tan',\n",
              " 'tanh',\n",
              " 'tau',\n",
              " 'trunc']"
            ]
          },
          "metadata": {},
          "execution_count": 1
        }
      ]
    },
    {
      "cell_type": "markdown",
      "source": [
        "Es posible capturar la excepcion AttributeError mediante el m�todo \\_\\_getattr__(). De manera si no se encuentra un atributo en el objeto este m�todo puede ofrecer una alternativa"
      ],
      "metadata": {
        "id": "2vgNPUe4zdHh"
      }
    },
    {
      "cell_type": "code",
      "source": [
        "class Punto:\n",
        "  @staticmethod\n",
        "  def get_org():\n",
        "    return Punto(0, 0)\n",
        "  \n",
        "  def __init__(self, x, y):\n",
        "    self.x = x\n",
        "    self.y = y\n",
        "\n",
        "  @property\n",
        "  def x(self):\n",
        "    return self.__x\n",
        "  \n",
        "  @x.setter\n",
        "  def x(self, v):\n",
        "    self.__x = v\n",
        "\n",
        "  @property\n",
        "  def y(self):\n",
        "    return self.__y\n",
        "\n",
        "  @y.setter\n",
        "  def y(self, v):\n",
        "    self.__y = v\n",
        "  \n",
        "  def __getattr__(self,nombre):\n",
        "    if(nombre == \"base\"):\n",
        "      return Punto.get_org()\n",
        "    else:\n",
        "      raise AttributeError(\"No existe el atributo \" + nombre)\n",
        "\n",
        "\n",
        "a = Punto(1,2)\n",
        "print(a.base)\n",
        "print(a.patata)"
      ],
      "metadata": {
        "colab": {
          "base_uri": "https://localhost:8080/",
          "height": 338
        },
        "id": "mcE7e55Wzcqi",
        "outputId": "78b9fe58-d57f-4f91-f30e-733251be4fb2"
      },
      "execution_count": null,
      "outputs": [
        {
          "output_type": "stream",
          "name": "stdout",
          "text": [
            "<__main__.Punto object at 0x7f9efdbf2090>\n"
          ]
        },
        {
          "output_type": "error",
          "ename": "AttributeError",
          "evalue": "ignored",
          "traceback": [
            "\u001b[0;31m---------------------------------------------------------------------------\u001b[0m",
            "\u001b[0;31mAttributeError\u001b[0m                            Traceback (most recent call last)",
            "\u001b[0;32m<ipython-input-22-00fa33ce312c>\u001b[0m in \u001b[0;36m<module>\u001b[0;34m()\u001b[0m\n\u001b[1;32m     33\u001b[0m \u001b[0ma\u001b[0m \u001b[0;34m=\u001b[0m \u001b[0mPunto\u001b[0m\u001b[0;34m(\u001b[0m\u001b[0;36m1\u001b[0m\u001b[0;34m,\u001b[0m\u001b[0;36m2\u001b[0m\u001b[0;34m)\u001b[0m\u001b[0;34m\u001b[0m\u001b[0;34m\u001b[0m\u001b[0m\n\u001b[1;32m     34\u001b[0m \u001b[0mprint\u001b[0m\u001b[0;34m(\u001b[0m\u001b[0ma\u001b[0m\u001b[0;34m.\u001b[0m\u001b[0mbase\u001b[0m\u001b[0;34m)\u001b[0m\u001b[0;34m\u001b[0m\u001b[0;34m\u001b[0m\u001b[0m\n\u001b[0;32m---> 35\u001b[0;31m \u001b[0mprint\u001b[0m\u001b[0;34m(\u001b[0m\u001b[0ma\u001b[0m\u001b[0;34m.\u001b[0m\u001b[0mpatata\u001b[0m\u001b[0;34m)\u001b[0m\u001b[0;34m\u001b[0m\u001b[0;34m\u001b[0m\u001b[0m\n\u001b[0m",
            "\u001b[0;32m<ipython-input-22-00fa33ce312c>\u001b[0m in \u001b[0;36m__getattr__\u001b[0;34m(self, nombre)\u001b[0m\n\u001b[1;32m     28\u001b[0m       \u001b[0;32mreturn\u001b[0m \u001b[0mPunto\u001b[0m\u001b[0;34m.\u001b[0m\u001b[0mget_org\u001b[0m\u001b[0;34m(\u001b[0m\u001b[0;34m)\u001b[0m\u001b[0;34m\u001b[0m\u001b[0;34m\u001b[0m\u001b[0m\n\u001b[1;32m     29\u001b[0m     \u001b[0;32melse\u001b[0m\u001b[0;34m:\u001b[0m\u001b[0;34m\u001b[0m\u001b[0;34m\u001b[0m\u001b[0m\n\u001b[0;32m---> 30\u001b[0;31m       \u001b[0;32mraise\u001b[0m \u001b[0mAttributeError\u001b[0m\u001b[0;34m(\u001b[0m\u001b[0;34m\"No existe el atributo \"\u001b[0m \u001b[0;34m+\u001b[0m \u001b[0mnombre\u001b[0m\u001b[0;34m)\u001b[0m\u001b[0;34m\u001b[0m\u001b[0;34m\u001b[0m\u001b[0m\n\u001b[0m\u001b[1;32m     31\u001b[0m \u001b[0;34m\u001b[0m\u001b[0m\n\u001b[1;32m     32\u001b[0m \u001b[0;34m\u001b[0m\u001b[0m\n",
            "\u001b[0;31mAttributeError\u001b[0m: No existe el atributo patata"
          ]
        }
      ]
    },
    {
      "cell_type": "markdown",
      "source": [
        "## Ejercicio\n",
        "Crea una clase para manejar n�meros complejos\n",
        "Esta ha de permitir suma, resta, multiplicacion, division, igualdad y ha de poder convertise en cadena con el formato \"a + bi\". Ten en cuenta que i**2 = -1."
      ],
      "metadata": {
        "id": "YFQmZUkV1paj"
      }
    },
    {
      "cell_type": "code",
      "source": [
        "class Complejo:\n",
        "  @staticmethod\n",
        "  def get_org():\n",
        "    return Complejo(0, 0)\n",
        "  \n",
        "  def __init__(self, x, y):\n",
        "    self.x = x\n",
        "    self.y = y\n",
        "\n",
        "  @property\n",
        "  def x(self):\n",
        "    return self.__x\n",
        "  \n",
        "  @x.setter\n",
        "  def x(self, v):\n",
        "    self.__x = v\n",
        "\n",
        "  @property\n",
        "  def y(self):\n",
        "    return self.__y\n",
        "\n",
        "  @y.setter\n",
        "  def y(self, v):\n",
        "    self.__y = v\n",
        "  \n",
        "  def __eq__(self,c2):\n",
        "    if not (isinstance(c2,Complejo)):\n",
        "      return false\n",
        "    else:\n",
        "      return self.__x == c2.x and self.__y == c2.y\n",
        "  \n",
        "  def __add__(self,c2):\n",
        "    temp = Complejo(0,0)\n",
        "    if not (isinstance(c2,Complejo)):\n",
        "      return false\n",
        "    else:\n",
        "      temp.x = self.__x + c2.x \n",
        "      temp.y = self.__y + c2.y\n",
        "      return(temp)\n",
        "  \n",
        "  def __sub__(self,c2):\n",
        "    temp = Complejo(0,0)\n",
        "    if not (isinstance(c2,Complejo)):\n",
        "      return false\n",
        "    else:\n",
        "      temp.x = self.__x - c2.x \n",
        "      temp.y = self.__y - c2.y\n",
        "      return(temp)\n",
        "\n",
        "  def __mul__(self,c2):\n",
        "    temp = Complejo(0,0)\n",
        "    if not (isinstance(c2,Complejo)):\n",
        "      return false\n",
        "    else:\n",
        "      temp.x = self.__x*c2.x - self.__y*c2.y \n",
        "      temp.y = self.__x*c2.y + self.__y*c2.x\n",
        "      return(temp)\n",
        "\n",
        "  def __truediv__(self,c2):\n",
        "    temp = Complejo(0,0)\n",
        "    if not (isinstance(c2,Complejo)):\n",
        "      return false\n",
        "    else:\n",
        "      temp.x = (self.__x*c2.x + self.__y*c2.y)/(c2.x**2+c2.y**2)\n",
        "      temp.y = (self.__x*c2.y - self.__y*c2.x)/(c2.x**2+c2.y**2)\n",
        "      return(temp)\n",
        "  \n",
        "  def __str__(self):\n",
        "    if (self.__y > 0):\n",
        "      return(str(self.x) + \"+\" + str(self.y) + \"i\")\n",
        "    elif (self.__y < 0):\n",
        "      return(str(self.x) + str(self.y) + \"i\")\n",
        "    else:\n",
        "      return(str(self.__x))\n",
        "\n",
        "\n",
        "c1 = Complejo(5,6)\n",
        "c2 = Complejo(5,6)\n",
        "c3 = Complejo (5,9)\n",
        "print(c1==c3)\n",
        "print(c1+c2)\n",
        "print(c1-c3)\n",
        "print(c1*c3)\n",
        "print(c3/c2)"
      ],
      "metadata": {
        "colab": {
          "base_uri": "https://localhost:8080/"
        },
        "id": "k9h0r7Kd-hYZ",
        "outputId": "efab9bef-3939-49cf-d281-f095f334675c"
      },
      "execution_count": null,
      "outputs": [
        {
          "output_type": "stream",
          "name": "stdout",
          "text": [
            "False\n",
            "10+12i\n",
            "0-3i\n",
            "-29+75i\n",
            "1.2950819672131149-0.2459016393442623i\n"
          ]
        }
      ]
    },
    {
      "cell_type": "markdown",
      "source": [
        "# Polimorfismo\n"
      ],
      "metadata": {
        "id": "dOKaAuT32VDq"
      }
    },
    {
      "cell_type": "markdown",
      "source": [
        "## Composici�n\n",
        "Una vez conocemos como crear e instanciar objetos, podemos utilizar clases m�s simples para crear objetos complejos. El ejemplo cl�sico es utilizar dos instancias de la clase punto para instanciar la clase l�nea. "
      ],
      "metadata": {
        "id": "ouMgmEmckBcp"
      }
    },
    {
      "cell_type": "code",
      "source": [
        "import math\n",
        "import numbers\n",
        "\n",
        "class Punto:\n",
        "  @staticmethod\n",
        "  def get_org():\n",
        "    return Punto(0, 0)\n",
        "  \n",
        "  def __init__(self, x, y):\n",
        "    self.x = x\n",
        "    self.y = y\n",
        "\n",
        "  @property\n",
        "  def x(self):\n",
        "    return self.__x\n",
        "  \n",
        "  @x.setter\n",
        "  def x(self, v):\n",
        "    self.__x = v\n",
        "\n",
        "  @property\n",
        "  def y(self):\n",
        "    return self.__y\n",
        "\n",
        "  @y.setter\n",
        "  def y(self, v):\n",
        "    self.__y = v\n",
        "  \n",
        "  def distancia(self):\n",
        "    \"\"\" retorna la distancia desde el origen hasta este punto \"\"\"\n",
        "    return math.sqrt((self.x**2)+(self.y**2))\n",
        "\n",
        "  def __str__(self):\n",
        "    return \"({0:.2f},{1:.2f})\".format(self.x,self.y)\n",
        "  \n",
        "class linea:\n",
        "  def __init__(self,x1,y1,x2,y2):\n",
        "    self.__p1 = Punto(x1,y1)\n",
        "    self.__p2 = Punto(x2,y2)\n",
        "\n",
        "  @property\n",
        "  def p1(self):\n",
        "    return self.__p1\n",
        "  \n",
        "  @property\n",
        "  def p2(self):\n",
        "    return self.__p2\n",
        "  \n",
        "  def __str__(self):\n",
        "    return \"({0},{1})\".format(self.p1,self.p2)\n",
        "\n",
        "a = linea(1,3,2,4)\n",
        "print(a)\n"
      ],
      "metadata": {
        "colab": {
          "base_uri": "https://localhost:8080/"
        },
        "id": "MMetXUBvfqNq",
        "outputId": "e65a0533-b7cc-4a5c-8101-22491d9bd54e"
      },
      "execution_count": null,
      "outputs": [
        {
          "output_type": "stream",
          "name": "stdout",
          "text": [
            "((1.00,3.00),(2.00,4.00))\n"
          ]
        }
      ]
    },
    {
      "cell_type": "markdown",
      "source": [
        "## Herencia\n",
        "Python soporta herencia m�ltiple. Esto significa que una subclase puede tener varias superclases. La funcion super permite acceder a los m�todos de la clase padre"
      ],
      "metadata": {
        "id": "7WFj9HdbiCpT"
      }
    },
    {
      "cell_type": "code",
      "source": [
        "class Persona:\n",
        "  def __init__(self, nombre, edad):\n",
        "    self.__nombre = nombre\n",
        "    self.__edad = edad\n",
        "  \n",
        "  @property\n",
        "  def nombre(self):\n",
        "    return self.__nombre\n",
        "  \n",
        "  @property\n",
        "  def edad(self):\n",
        "    return self.__edad\n",
        "  \n",
        "  def __str__(self):\n",
        "    return self.nombre + \" (\" + str( self.edad ) + \")\"\n",
        "\n",
        "class Empleado(Persona):\n",
        "  def __init__(self, nombre, edad, empresa, email):\n",
        "    super().__init__(nombre, edad)\n",
        "    self.__empresa = empresa\n",
        "    self.__email = email\n",
        "  \n",
        "  @property\n",
        "  def empresa(self):\n",
        "    return self.__empresa\n",
        "  \n",
        "  @property\n",
        "  def email(self):\n",
        "    return self.__email\n",
        "  \n",
        "  def __str__(self):\n",
        "    toret = super().__str__()\n",
        "    toret += \" en \" + self.empresa\n",
        "    toret += \": \" + self.email\n",
        "    return toret\n",
        "  \n",
        "\n",
        "print(Persona(\"Brais\",23))\n",
        "print(Empleado(\"Brais\",23,\"UvigoMotorsport\",\"brais.fontan.costas@uvigomotorsport.com\"))"
      ],
      "metadata": {
        "colab": {
          "base_uri": "https://localhost:8080/"
        },
        "id": "AktaNBroiTZx",
        "outputId": "aed0bc0a-577b-449d-ee82-6266bf6bb7b1"
      },
      "execution_count": null,
      "outputs": [
        {
          "output_type": "stream",
          "name": "stdout",
          "text": [
            "Brais (23)\n",
            "Brais (23) en UvigoMotorsport: brais.fontan.costas@uvigomotorsport.com\n"
          ]
        }
      ]
    },
    {
      "cell_type": "markdown",
      "source": [
        "##Problema\n",
        "En UvigoMotorsport utilizamos el formato darknet yolo para devolver las coordenadas de los algoritmos de detecci�n de imagen al SLAM. Pero tambi�n existen otros formatos como pueden ser el formato VOC. Crea una clase etiquetaImagen que pueda instanciar elementos de tanto VOC como darknet yolo. Ha de existir un m�todo que devuelva la clase, otro que devuelva el punto medio de la etiqueta, y otro que devuelva el alto y el ancho de la misma."
      ],
      "metadata": {
        "id": "fWBAOqxcjeOK"
      }
    },
    {
      "cell_type": "code",
      "source": [
        "class EtiquetaImagen:\n",
        "  def __init__(self, formato):\n",
        "    self.__formato = formato\n",
        "  \n",
        "  @property\n",
        "  def formato(self):\n",
        "    return self.__formato\n",
        "  \n",
        "class EtiquetaYolo(EtiquetaImagen):\n",
        "  def __init__(self, formato, centroX, centroY, anchoX, anchoY):\n",
        "    super().__init__(formato)\n",
        "    self.__centroX = centroX\n",
        "    self.__centroY = centroY\n",
        "    self.__anchoX = anchoX\n",
        "    self.__anchoY = anchoY\n",
        "  \n",
        "  @property\n",
        "  def centroX(self):\n",
        "    return self.__centroX\n",
        "    \n",
        "  @property\n",
        "  def centroY(self):\n",
        "    return self.__centroY\n",
        "\n",
        "  @property\n",
        "  def anchoX(self):\n",
        "    return self.__anchoX\n",
        "\n",
        "  @property\n",
        "  def anchoY(self):\n",
        "    return self.__anchoY\n",
        "\n",
        "  def muestraFormato(self):\n",
        "    return(\"El  formato es Darknet yolo\")\n",
        "  \n",
        "  def muestraPuntoMedio(self):\n",
        "    return (\"El punto medio es: (\" + str(self.__centroX) + \",\" + str(self.__centroY) + \")\")\n",
        "\n",
        "  def muestraAnchos(self):\n",
        "    return (\"El ancho es \" + str(self.__anchoX) + \", y el alto es \" + str(self.__anchoY))\n",
        "\n",
        "\n",
        "class EtiquetaVOC(EtiquetaImagen):\n",
        "  def __init__(self, formato, minX, minY, maxX, maxY):\n",
        "    super().__init__(formato)\n",
        "    self.__minX = minX\n",
        "    self.__minY = minY\n",
        "    self.__maxX = maxX\n",
        "    self.__maxY = maxY\n",
        "  \n",
        "  @property\n",
        "  def centroX(self):\n",
        "    return self.__minX\n",
        "    \n",
        "  @property\n",
        "  def centroY(self):\n",
        "    return self.__minY\n",
        "\n",
        "  @property\n",
        "  def anchoX(self):\n",
        "    return self.__maxX\n",
        "\n",
        "  @property\n",
        "  def anchoY(self):\n",
        "    return self.__maxY\n",
        "\n",
        "  def muestraFormato(self):\n",
        "    return(\"El  formato es VOC\")\n",
        "  \n",
        "  def muestraPuntoMedio(self):\n",
        "    x = (self.__minX+self.__maxX)/2\n",
        "    y = (self.__minY+self.__maxY)/2\n",
        "    return (\"El punto medio es: (\" + str(x) + \",\" + str(y) + \")\")\n",
        "\n",
        "  def muestraAnchos(self):\n",
        "    x = (self.__maxX-self.__minX)\n",
        "    y = (self.__maxY-self.__minY)\n",
        "    return (\"El ancho es \" + str(x) + \", y el alto es \" + str(y))\n",
        "  \n",
        "\n",
        "p1 = EtiquetaYolo(1, 2, 4, 1,5)\n",
        "p2 = EtiquetaVOC(1, 2, 4, 3,5)\n",
        "print(p1.muestraFormato())\n",
        "print(p1.muestraPuntoMedio())\n",
        "print(p1.muestraAnchos())\n",
        "print(p2.muestraFormato())\n",
        "print(p2.muestraPuntoMedio())\n",
        "print(p2.muestraAnchos())"
      ],
      "metadata": {
        "id": "_5YysUpi52RG",
        "colab": {
          "base_uri": "https://localhost:8080/"
        },
        "outputId": "088b7bf2-630a-4de0-b014-86bccaf299c7"
      },
      "execution_count": null,
      "outputs": [
        {
          "output_type": "stream",
          "name": "stdout",
          "text": [
            "El  formato es Darknet yolo\n",
            "El punto medio es: (2,4)\n",
            "El ancho es 1, y el alto es 5\n",
            "El  formato es VOC\n",
            "El punto medio es: (2.5,4.5)\n",
            "El ancho es 1, y el alto es 1\n"
          ]
        }
      ]
    }
  ]
}