{
  "cells": [
    {
      "cell_type": "markdown",
      "metadata": {
        "colab_type": "text",
        "id": "view-in-github"
      },
      "source": [
        "<a href=\"https://colab.research.google.com/github/ElBley/cursoPython/blob/main/Curso_Python_Sesion_1.ipynb\" target=\"_parent\"><img src=\"https://colab.research.google.com/assets/colab-badge.svg\" alt=\"Open In Colab\"/></a>"
      ]
    },
    {
      "cell_type": "markdown",
      "metadata": {
        "id": "TIc8D2tzN_Ih"
      },
      "source": [
        "#Introducción a Python"
      ]
    },
    {
      "cell_type": "markdown",
      "metadata": {
        "id": "fusZ9QBu2TE1"
      },
      "source": [
        "## Problema\n",
        "Escribe un programa que acepte tres parámetros: dos números y un carácter. Si el carácter es '+' los números se suman, con '-' se restan, con '*' se multiplican, con '/' se dividen, y con '^' se\n",
        "eleva el primero al segundo. Crea una función que acepte estos tres datos y devuelva el resultado del cálculo. Crea otra función que pida los datos necesarios."
      ]
    },
    {
      "cell_type": "code",
      "execution_count": 1,
      "metadata": {
        "id": "W4XsTNg027FV"
      },
      "outputs": [
        {
          "name": "stdout",
          "output_type": "stream",
          "text": [
            "El resultado es 3\n"
          ]
        }
      ],
      "source": [
        "def calculadora(a, b, c):\n",
        "    if c == '+':\n",
        "      return a+b\n",
        "    elif c == '*':\n",
        "      return a*b\n",
        "    elif c == '-':\n",
        "      return a-b\n",
        "    elif c == '/':\n",
        "      return a/b\n",
        "    elif c == '^':\n",
        "      return a**b\n",
        "\n",
        "def datos():\n",
        "    numero1 = input(\"Introduce el primero numero: \")\n",
        "    numero1 = int(numero1)\n",
        "    numero2 = input(\"Introduce el segundo numero: \")\n",
        "    numero2 = int(numero2)\n",
        "    operacion = input(\"Introduce la operacion a realizar: \")\n",
        "    print(\"El resultado es \" + str(calculadora(numero1, numero2, operacion)))\n",
        "\n",
        "datos()"
      ]
    },
    {
      "cell_type": "markdown",
      "metadata": {
        "id": "YFQmZUkV1paj"
      },
      "source": [
        "## Ejercicio\n",
        "Crea una clase para manejar números complejos\n",
        "Esta ha de permitir suma, resta, multiplicacion, division, igualdad y ha de poder convertise en cadena con el formato \"a + bi\". Ten en cuenta que i**2 = -1."
      ]
    },
    {
      "cell_type": "code",
      "execution_count": null,
      "metadata": {},
      "outputs": [],
      "source": [
        "#Numero complejos mal implementados\n",
        "class numerosComplejos():\n",
        "  def __init__(self, a, b):\n",
        "    self.a = a\n",
        "    self.b = b\n",
        "\n",
        "  def getNumero():\n",
        "    return str(a)+'+'+str(b)+'i'\n",
        "\n",
        "  def sumar(numero1, numero2):\n",
        "    componente1 = numero1.a + numero2.a\n",
        "    componente2 = numero1.b + numero2.b\n",
        "    return '('+str(componente1)+', '+str(componente2)+')'\n",
        "\n",
        "  def sumar(numero1, numero2):\n",
        "    componente1 = numero1.a + numero2.a\n",
        "    componente2 = numero1.b + numero2.b\n",
        "    return '('+str(componente1)+', '+str(componente2)+')'\n",
        "\n",
        "num1 = numerosComplejos(2,2)\n",
        "num2 = numerosComplejos(2,1)\n",
        "\n",
        "print(numerosComplejos.sumar(num1, num2))"
      ]
    },
    {
      "cell_type": "markdown",
      "metadata": {
        "id": "fWBAOqxcjeOK"
      },
      "source": [
        "##Problema\n",
        "En UvigoMotorsport utilizamos el formato darknet yolo para devolver las coordenadas de los algoritmos de detección de imagen al SLAM. Pero también existen otros formatos como pueden ser el formato VOC. Crea una clase etiquetaImagen que pueda instanciar elementos de tanto VOC como darknet yolo. Ha de existir un método que devuelva la clase, otro que devuelva el punto medio de la etiqueta, y otro que devuelva el alto y el ancho de la misma."
      ]
    },
    {
      "cell_type": "code",
      "execution_count": null,
      "metadata": {},
      "outputs": [],
      "source": [
        "class etiquetaImagen():\n",
        "\n",
        "    def __init__(self, clase):\n",
        "      self.__clase = clase\n",
        "\n",
        "    def devolverClase(self):\n",
        "      return self.__clase\n",
        "\n",
        "    def __str__(self):\n",
        "      toret = \"Clase: \" + self.__clase\n",
        "      return toret\n",
        "        \n",
        "class darknetYOLO(etiquetaImagen):\n",
        "\n",
        "    def __init__(self, clase, x, y, height, width):\n",
        "      super().__init__(clase)\n",
        "      self.__x = x\n",
        "      self.__y = y\n",
        "      self.__height = height\n",
        "      self.__width = width\n",
        "\n",
        "    def puntoMedio(self):\n",
        "      return (self.__x, self.__y) #CHECKEAR BIEN ESTO\n",
        "\n",
        "    def altoAncho(self):\n",
        "      return (self.__height, self.__width)\n",
        "\n",
        "    def __str__(self):\n",
        "      toret = super().__str__()\n",
        "      toret += \" - (X, Y) = (\" + str(self.__x) \n",
        "      toret += \", \" + str(self.__y) + \")\" \n",
        "      toret += \" - Alto y ancho: (\" + str(self.__height) \n",
        "      toret += \", \" + str(self.__width) + \")\"\n",
        "      return toret\n",
        "\n",
        "class pascalVOC(etiquetaImagen):\n",
        "\n",
        "    def __init__(self, clase, xmin, ymin, xmax, ymax):\n",
        "      super().__init__(clase)\n",
        "      self.__xmin = xmin\n",
        "      self.__ymin = ymin\n",
        "      self.__xmax = xmax\n",
        "      self.__ymax = ymax\n",
        "\n",
        "    \n",
        "    def puntoMedio(self):\n",
        "      medio_x = (self.__xmax + self.__xmin)/2\n",
        "      medio_y = (self.__ymin + self.__ymax)/2\n",
        "      return (medio_x, medio_y) #Estas coordenadas ya son el punto medio no?\n",
        "\n",
        "    def altoAncho(self):\n",
        "      alto = self.__ymax - self.__ymin\n",
        "      ancho = self.__xmax - self.__xmin\n",
        "      return (alto, ancho)\n",
        "#Anhadimos los siguientes metodos para la sesion 2, ejercicio 3\n",
        "\n",
        "    @property\n",
        "    def x(self):\n",
        "      return self.__x\n",
        "\n",
        "    @property\n",
        "    def y(self):\n",
        "      return self.__y\n",
        "\n",
        "    def __str__(self):\n",
        "      toret = super().__str__()\n",
        "      toret += \" - Xmin e Ymin: (\" + str(self.__xmin)\n",
        "      toret += \", \" +     str(self.__ymin) + \")\"  \n",
        "      toret += \" - Xmax e Ymax: (\" + str(self.__xmax)\n",
        "      toret += \", \" + str(self.__ymax) + \")\"  \n",
        "      return toret\n",
        "\n",
        "img1 = darknetYOLO(\"patata\", 200, 180, 400, 420)\n",
        "img2 = pascalVOC(\"patata\", 200, 180, 400, 420)\n",
        "print(img1)\n",
        "print(img1.puntoMedio())\n",
        "print(img1.altoAncho())\n",
        "\n",
        "print(img2)\n",
        "print(img2.puntoMedio())\n",
        "print(img2.altoAncho())"
      ]
    }
  ],
  "metadata": {
    "colab": {
      "authorship_tag": "ABX9TyMyTF8nabKekJCl6MZdBMyG",
      "collapsed_sections": [],
      "include_colab_link": true,
      "name": "Curso Python Sesion 1",
      "provenance": [],
      "toc_visible": true
    },
    "kernelspec": {
      "display_name": "Python 3",
      "name": "python3"
    },
    "language_info": {
      "codemirror_mode": {
        "name": "ipython",
        "version": 3
      },
      "file_extension": ".py",
      "mimetype": "text/x-python",
      "name": "python",
      "nbconvert_exporter": "python",
      "pygments_lexer": "ipython3",
      "version": "3.9.10"
    }
  },
  "nbformat": 4,
  "nbformat_minor": 0
}
