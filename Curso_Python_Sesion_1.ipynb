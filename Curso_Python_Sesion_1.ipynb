{
  "cells": [
    {
      "cell_type": "markdown",
      "metadata": {
        "colab_type": "text",
        "id": "view-in-github"
      },
      "source": [
        "<a href=\"https://colab.research.google.com/github/ElBley/cursoPython/blob/main/Curso_Python_Sesion_1.ipynb\" target=\"_parent\"><img src=\"https://colab.research.google.com/assets/colab-badge.svg\" alt=\"Open In Colab\"/></a>"
      ]
    },
    {
      "cell_type": "markdown",
      "metadata": {
        "id": "TIc8D2tzN_Ih"
      },
      "source": [
        "#Introducción a Python"
      ]
    },
    {
      "cell_type": "markdown",
      "metadata": {
        "id": "0N2XlwHtOH6w"
      },
      "source": [
        "###Sintaxis y conceptos básicos"
      ]
    },
    {
      "cell_type": "markdown",
      "metadata": {
        "id": "robVVotvOUIG"
      },
      "source": [
        "#### Introducción\n",
        "Python es un lenguaje de programación muy reciente (1991). Con el paso de los años Python ha ido ganando más y más adeptos, principalmente derivado de la alta flexibilidad del lenguaje. Python es un lenguaje interpretado y dinámico, lo que significa que **Python no utiliza tipos** y los errores se descubren durante la ejecución (aunque también es posible añadir verificacadores estáticos de código).\n",
        "Python se distribuye como un compilador/máquina vitual/entorno de consola, aunque también dispone de un entorno gráfico nativo llamdo IDLE. A lo largo de este curso utilizaremos el entorno de google colab, ya que permite utilizar un entorno web, si necesidad de instalación."
      ]
    },
    {
      "cell_type": "markdown",
      "metadata": {
        "id": "N-H5Xk1fQ9QV"
      },
      "source": [
        "La indicación ! en google colab permite ejecutar comandos de linux contra el servidor, en vez de comandos python. En este caso lanzamos !python para arrancar el entorno interactivo de python."
      ]
    },
    {
      "cell_type": "code",
      "execution_count": 16,
      "metadata": {
        "colab": {
          "base_uri": "https://localhost:8080/"
        },
        "id": "uRNd0UbON5fP",
        "outputId": "bcd91c2f-8c24-461a-9c85-5451cf085ad6"
      },
      "outputs": [
        {
          "name": "stdout",
          "output_type": "stream",
          "text": [
            "Python 3.7.13 (default, Mar 16 2022, 17:37:17) \n",
            "[GCC 7.5.0] on linux\n",
            "Type \"help\", \"copyright\", \"credits\" or \"license\" for more information.\n",
            ">>> quit()\n"
          ]
        }
      ],
      "source": [
        "!python"
      ]
    },
    {
      "cell_type": "markdown",
      "metadata": {
        "id": "0JyCd102RlBO"
      },
      "source": [
        "También es posible escribir un programa python en un archivo y lanzarlo desde el terminal"
      ]
    },
    {
      "cell_type": "code",
      "execution_count": null,
      "metadata": {
        "colab": {
          "base_uri": "https://localhost:8080/"
        },
        "id": "l8kQOlXvR249",
        "outputId": "61e727f8-ec6e-4722-fdb6-1feab1a95a1e"
      },
      "outputs": [
        {
          "name": "stdout",
          "output_type": "stream",
          "text": [
            "hello world\n"
          ]
        }
      ],
      "source": [
        "!echo 'print(\"hello world\")' > python_script.py\n",
        "!python python_script.py"
      ]
    },
    {
      "cell_type": "markdown",
      "metadata": {
        "id": "bnW3By3VOTEm"
      },
      "source": [
        "#### Consola\n",
        "La salida por consola se realiza mediante la función print() y la entrada se realiza mediante la función input()"
      ]
    },
    {
      "cell_type": "code",
      "execution_count": null,
      "metadata": {
        "colab": {
          "base_uri": "https://localhost:8080/"
        },
        "id": "pdzvN41CSbQW",
        "outputId": "a9e6b2f1-a18c-4137-a0f9-a0adcbecbb9c"
      },
      "outputs": [
        {
          "name": "stdout",
          "output_type": "stream",
          "text": [
            "Introduzca un numero4\n",
            "El cuadrado de 4.0 es 16.0\n"
          ]
        }
      ],
      "source": [
        "x = input(\"Introduzca un numero \")\n",
        "x = float(x)\n",
        "print(\"El cuadrado de {0} es {1}\".format(x,x**2))"
      ]
    },
    {
      "cell_type": "markdown",
      "metadata": {
        "id": "0f0wvZoMTJ1F"
      },
      "source": [
        "## Tipos de datos simples"
      ]
    },
    {
      "cell_type": "markdown",
      "metadata": {
        "id": "tvuX0GN_Tb2V"
      },
      "source": [
        "Existen tres agrupaciones de los tipos de datos en python: numeros, cadenas y listas. No se distingue entre el número de bytes que puede tener un número, a diferencia de C, donde existen los short int y long int. "
      ]
    },
    {
      "cell_type": "markdown",
      "metadata": {
        "id": "cCSNl3C3UG_v"
      },
      "source": [
        "#### Numeros\n",
        "Existen numeros enteros y numeros reales, pero python no declara las variables de un tipo estático, por lo que una variable puede contener un entero en un momento, y un real después."
      ]
    },
    {
      "cell_type": "code",
      "execution_count": null,
      "metadata": {
        "colab": {
          "base_uri": "https://localhost:8080/"
        },
        "id": "WV2c6iOUTUaN",
        "outputId": "11453fd0-3a27-40cf-889a-06873aabee79"
      },
      "outputs": [
        {
          "name": "stdout",
          "output_type": "stream",
          "text": [
            "5\n",
            "5.2\n",
            "5 5.2\n"
          ]
        }
      ],
      "source": [
        "i = 5\n",
        "print(i)\n",
        "i = 5.2\n",
        "print (i)\n",
        "i,j = 5,5.2\n",
        "print(i,j)"
      ]
    },
    {
      "cell_type": "markdown",
      "metadata": {
        "id": "GbLcCPHnUXQQ"
      },
      "source": [
        "####Operadores de Números"
      ]
    },
    {
      "cell_type": "code",
      "execution_count": null,
      "metadata": {
        "colab": {
          "base_uri": "https://localhost:8080/"
        },
        "id": "y0W9avuuVCz9",
        "outputId": "953f943e-662d-4f19-c338-f54414163f98"
      },
      "outputs": [
        {
          "name": "stdout",
          "output_type": "stream",
          "text": [
            "False\n",
            "9\n",
            "5\n",
            "12\n",
            "2.0\n",
            "1\n",
            "8\n",
            "3\n",
            "1\n"
          ]
        }
      ],
      "source": [
        "#comparacion\n",
        "print(6==7)\n",
        "#suma\n",
        "print(2+7)\n",
        "#resta\n",
        "print(7-2)\n",
        "#Mutiplicacion\n",
        "print(6*2)\n",
        "#Division\n",
        "print(4/2)\n",
        "#Resto\n",
        "print(7%2)\n",
        "#potencia\n",
        "print(2**3)\n",
        "#Division entera\n",
        "print(7//2)\n",
        "#incremento\n",
        "x = 0\n",
        "x+=1\n",
        "print(x)"
      ]
    },
    {
      "cell_type": "markdown",
      "metadata": {
        "id": "NKm55WABWgWv"
      },
      "source": [
        "La función str() convierte un número en una cadena, existen otras funciones generalistas, como por ejemplo abs() que devuelve el valor absoluto de un numero"
      ]
    },
    {
      "cell_type": "markdown",
      "metadata": {
        "id": "e4iVCl3GWxtm"
      },
      "source": [
        "#### Cadenas\n",
        "Las cadenas se delimitan con comillas simples o dobles. Una cadena puede ocupar más de una línea utilizando '\\'. También admite códigos de escape como puede ser \\n. Si utilizas las comillas de forma triplicada cogen todo el contenido de manera literal, incluyendo los saltos de línea."
      ]
    },
    {
      "cell_type": "code",
      "execution_count": null,
      "metadata": {
        "colab": {
          "base_uri": "https://localhost:8080/"
        },
        "id": "7-pFn2vAX0Tm",
        "outputId": "e7046ca3-8c3f-4ff8-e7a4-67225135bcd2"
      },
      "outputs": [
        {
          "name": "stdout",
          "output_type": "stream",
          "text": [
            "Cadena con un\n",
            "salto de linea\n",
            "Cadena con un\n",
            "salto de linea\n"
          ]
        }
      ],
      "source": [
        "cadena1 = \"Cadena con un\\n\\\n",
        "salto de linea\"\n",
        "print(cadena1)\n",
        "\n",
        "cadena2=\"\"\"Cadena con un\n",
        "salto de linea\"\"\"\n",
        "print(cadena2)"
      ]
    },
    {
      "cell_type": "markdown",
      "metadata": {
        "id": "A1rN7BL6Yfx3"
      },
      "source": [
        "Las cadenas pueden utilizar los operadores +  y *"
      ]
    },
    {
      "cell_type": "code",
      "execution_count": null,
      "metadata": {
        "colab": {
          "base_uri": "https://localhost:8080/"
        },
        "id": "2HI9vXVEYO_G",
        "outputId": "8c98501f-65e2-4e7f-a6ab-4c80c8c38810"
      },
      "outputs": [
        {
          "name": "stdout",
          "output_type": "stream",
          "text": [
            "Hola mundo\n",
            "PacoPacoPacoPaco\n"
          ]
        }
      ],
      "source": [
        "print(\"Hola\" + \" mundo\")\n",
        "print(\"Paco\"*4)"
      ]
    },
    {
      "cell_type": "markdown",
      "metadata": {
        "id": "25SWnN03ZGOF"
      },
      "source": [
        "Es posible acceder a los elementos de una cadena utilizando corchetes. La funcion len() devuelve el tamaño de la cadena"
      ]
    },
    {
      "cell_type": "code",
      "execution_count": null,
      "metadata": {
        "colab": {
          "base_uri": "https://localhost:8080/"
        },
        "id": "zURiNExQZQf9",
        "outputId": "d8e4e11a-8058-446c-81e9-73848a7fbc8d"
      },
      "outputs": [
        {
          "name": "stdout",
          "output_type": "stream",
          "text": [
            "M\n",
            "Uvigo\n",
            "Motorsport\n",
            "15\n"
          ]
        }
      ],
      "source": [
        "palabra = \"UvigoMotorsport\"\n",
        "print(palabra[5])\n",
        "print(palabra[0:5])\n",
        "print(palabra[5:len(palabra)])\n",
        "print(len(palabra))"
      ]
    },
    {
      "cell_type": "markdown",
      "metadata": {
        "id": "dOzaSTHmaoz3"
      },
      "source": [
        "Las funciones para pasar de cadena a número son int() y float, mientras que para pasar de número a cadena se utiliza str().\n",
        "Las cadenas son un tipo de objeto, y como tal tienen métodos propios, como por ejemplo *upper()*, *lower()* o *capitalize()*"
      ]
    },
    {
      "cell_type": "code",
      "execution_count": null,
      "metadata": {
        "colab": {
          "base_uri": "https://localhost:8080/"
        },
        "id": "2MBMA9XDbbcO",
        "outputId": "2bbe8363-30bb-47ee-d016-de2ae6304667"
      },
      "outputs": [
        {
          "name": "stdout",
          "output_type": "stream",
          "text": [
            "UVIGOMOTORSPORT\n",
            "uvigomotorsport\n",
            "Uvigomotorsport\n"
          ]
        }
      ],
      "source": [
        "palabra = \"UviGoMotORsPort\"\n",
        "print(palabra.upper())\n",
        "print(palabra.lower())\n",
        "print(palabra.capitalize())"
      ]
    },
    {
      "cell_type": "markdown",
      "metadata": {
        "id": "Em9KyFRSbPSg"
      },
      "source": [
        "##Condicionales\n",
        "En lenguajes como C, la condición de una sentencia de decisión es necesario delimitarla ente paréntesis, en python no. Además en python no se utilizan llaves para delimitar el código ejecutado, si no que se utiliza la indentación, predecida por dos puntos. "
      ]
    },
    {
      "cell_type": "code",
      "execution_count": null,
      "metadata": {
        "colab": {
          "base_uri": "https://localhost:8080/"
        },
        "id": "FlkvowLKeHY4",
        "outputId": "e4790317-f90e-41dd-d826-8e5bc9d5a9ef"
      },
      "outputs": [
        {
          "name": "stdout",
          "output_type": "stream",
          "text": [
            "Introduce un numero 1\n",
            "El numero es impar\n"
          ]
        }
      ],
      "source": [
        "x = input(\"Introduce un numero \")\n",
        "x = int(x)\n",
        "if x==0:\n",
        "  print(\"El numero es 0\")\n",
        "elif x%2==0:\n",
        "  print(\"El numero es par\")\n",
        "else:\n",
        "  print(\"El numero es impar\")"
      ]
    },
    {
      "cell_type": "markdown",
      "metadata": {
        "id": "gla0QqOUekB3"
      },
      "source": [
        "En python 3 la indentación es imprescindible realizarla con espacios, a diferencia de python 2 que aceptaba tanto espacios como tabuladores. La mayoría de editores de texto avanzados emplean 4 espacios cuando se pulsa el tabulador. Pero de editar un editor más crudo como leafpad o nano, y se utiliza el tab, python lanzará una excepcion IndentationError"
      ]
    },
    {
      "cell_type": "markdown",
      "metadata": {
        "id": "hVZNGfd5fgxA"
      },
      "source": [
        "##Bucles"
      ]
    },
    {
      "cell_type": "markdown",
      "metadata": {
        "id": "IgTSpJoO-kSY"
      },
      "source": [
        "En python existen los bucles while() y for(). Como en la mayoría de lenguajes, se reevalúa la condición al inicio de cada bucle, y en caso de que la condición devuelva true, se sale del bucle. "
      ]
    },
    {
      "cell_type": "code",
      "execution_count": null,
      "metadata": {
        "colab": {
          "base_uri": "https://localhost:8080/"
        },
        "id": "0W-Fenuafip4",
        "outputId": "d57b7d3a-a417-4469-c235-3d44271a9337"
      },
      "outputs": [
        {
          "name": "stdout",
          "output_type": "stream",
          "text": [
            "0\n",
            "1\n",
            "2\n",
            "3\n",
            "4\n",
            "5\n",
            "6\n",
            "7\n",
            "8\n",
            "9\n",
            "He salido el bucle\n"
          ]
        }
      ],
      "source": [
        "x = 0\n",
        "while x< 10:\n",
        "  print(x)\n",
        "  x+=1\n",
        "\n",
        "else:\n",
        "  print(\"He salido del bucle\")"
      ]
    },
    {
      "cell_type": "code",
      "execution_count": null,
      "metadata": {
        "colab": {
          "base_uri": "https://localhost:8080/"
        },
        "id": "rE6yaC2uEdQP",
        "outputId": "571dc836-4619-4f35-d6b6-19ed042e70df"
      },
      "outputs": [
        {
          "name": "stdout",
          "output_type": "stream",
          "text": [
            "0\n",
            "1\n",
            "2\n",
            "3\n",
            "4\n",
            "5\n",
            "6\n",
            "7\n",
            "8\n",
            "9\n",
            "He salido del bucle\n"
          ]
        }
      ],
      "source": [
        "for i in range(10):\n",
        "  print(i)\n",
        "\n",
        "else:\n",
        "  print(\"He salido del bucle\")"
      ]
    },
    {
      "cell_type": "code",
      "execution_count": null,
      "metadata": {
        "colab": {
          "base_uri": "https://localhost:8080/"
        },
        "id": "EmQ-uF5aEvPQ",
        "outputId": "082d5c30-54b6-409b-f2d6-2bbddbbe0106"
      },
      "outputs": [
        {
          "name": "stdout",
          "output_type": "stream",
          "text": [
            "0\n",
            "2\n",
            "4\n",
            "6\n",
            "8\n",
            "He salido del bucle\n"
          ]
        }
      ],
      "source": [
        "for i in range(0,10,2):\n",
        "  print(i)\n",
        "\n",
        "else:\n",
        "  print(\"He salido del bucle\")"
      ]
    },
    {
      "cell_type": "markdown",
      "metadata": {
        "id": "kFXVJ53fFN1P"
      },
      "source": [
        "##Funciones\n",
        "Las funciones permiten agrupar en una sentencia un bloque de código. Las funciones se definen con la palabra clave def seguido por el nombre de la función, y entre paréntesis la lista de parámetros. Después los dos puntos y el bloque de código tabulado."
      ]
    },
    {
      "cell_type": "code",
      "execution_count": null,
      "metadata": {
        "colab": {
          "base_uri": "https://localhost:8080/"
        },
        "id": "5BEOddHXuf6g",
        "outputId": "01c66728-0b10-4fb5-fac6-78050e9318a2"
      },
      "outputs": [
        {
          "name": "stdout",
          "output_type": "stream",
          "text": [
            "720\n"
          ]
        }
      ],
      "source": [
        "def factorial(n):\n",
        "  if n==1:\n",
        "    return 1\n",
        "  else:\n",
        "    return n*factorial(n-1)\n",
        "\n",
        "print(factorial(6))"
      ]
    },
    {
      "cell_type": "markdown",
      "metadata": {
        "id": "S4D9nLw5vAcn"
      },
      "source": [
        "Las funciones siempre devuelven un valor, incluso si no tiene sentencia return, el valor sería None, que es el equivalente de python a los valores NULL."
      ]
    },
    {
      "cell_type": "markdown",
      "metadata": {
        "id": "qP22XMlAvPAH"
      },
      "source": [
        "###Paso de parámetros\n",
        "Dependiendo del tipo de dato pasado, se pasa por valor o por referencia. Cuando se trata de un valor inmutable, como una cadena, numero o tupla, se pasa por valor. Cuando se se pasa una lista, objeto o diccionario se pasa por referencia.\n",
        "En verdad, python siempre pasa los parámetros por referencia, pero al asignarlos, se realiza la asignacion sobre una copia, por lo que efectivamente se pasan por copia. "
      ]
    },
    {
      "cell_type": "code",
      "execution_count": null,
      "metadata": {
        "colab": {
          "base_uri": "https://localhost:8080/"
        },
        "id": "GKBj6YVbwRve",
        "outputId": "b7e6e923-ab4b-4052-f581-bffce2ee204c"
      },
      "outputs": [
        {
          "name": "stdout",
          "output_type": "stream",
          "text": [
            "hola\n",
            "['h', 'o', 'l', 'a', ',', ' ', 'm', 'u', 'n', 'd', 'o']\n"
          ]
        }
      ],
      "source": [
        "s = \"hola\"\n",
        "def concatMundo(cad):\n",
        "  cad += \", mundo\"\n",
        "print(s)\n",
        "\n",
        "a = [\"h\",\"o\",\"l\",\"a\"]\n",
        "concatMundo(a)\n",
        "print(a)"
      ]
    },
    {
      "cell_type": "markdown",
      "metadata": {
        "id": "n9WFf0IGzAF1"
      },
      "source": [
        "Es posible declarar una función con valores por defecto en los parámetros, por lo que si un parámetro no existe en la llamada, se coge el valor por defecto"
      ]
    },
    {
      "cell_type": "code",
      "execution_count": null,
      "metadata": {
        "colab": {
          "base_uri": "https://localhost:8080/"
        },
        "id": "fX28KJHdy_kb",
        "outputId": "e358bdf5-8511-4b93-e58a-41c7a7551a0b"
      },
      "outputs": [
        {
          "name": "stdout",
          "output_type": "stream",
          "text": [
            "1 2 10 100\n",
            "1 2 3 100\n",
            "1 2 10 4\n",
            "1 2 10 100\n"
          ]
        }
      ],
      "source": [
        "def funcion(a,b,c=10,d=100):\n",
        "  print(a,b,c,d)\n",
        "  \n",
        "funcion(1,2)\n",
        "funcion(1,2,3)\n",
        "funcion(1,2,d=4)\n",
        "funcion(b=2,a=1)"
      ]
    },
    {
      "cell_type": "markdown",
      "metadata": {
        "id": "Kx8vbmbd0HMD"
      },
      "source": [
        "Python también permite devolver más de un elemento mediante el return, a diferencia de otros lenguajes"
      ]
    },
    {
      "cell_type": "code",
      "execution_count": null,
      "metadata": {
        "colab": {
          "base_uri": "https://localhost:8080/"
        },
        "id": "VqZWQ7BB0W1_",
        "outputId": "03c593e0-03aa-4f96-c9c0-df3f793537c6"
      },
      "outputs": [
        {
          "name": "stdout",
          "output_type": "stream",
          "text": [
            "nombre: paco\n",
            "apellidos: fernandez\n",
            "edad: 10\n",
            "paco fernandez 10\n"
          ]
        }
      ],
      "source": [
        "def cogeDatos():\n",
        "  nombre = input(\"nombre: \")\n",
        "  apellidos = input(\"apellidos: \")\n",
        "  edad = input(\"edad: \")\n",
        "  return nombre, apellidos, edad\n",
        "\n",
        "nombre,apellidos,edad = cogeDatos()\n",
        "print(nombre,apellidos,edad)"
      ]
    },
    {
      "cell_type": "markdown",
      "metadata": {
        "id": "NIkzo71d1mlv"
      },
      "source": [
        "De manera similar a java, python dispone de documentacion integrada, llamada docstrings que contienen documentacion sobre una entidad de código. Para documentar una función se sitúa con triples comillas en la primera línea tras la definición. Esta documentación está disponible mediante la función help()"
      ]
    },
    {
      "cell_type": "code",
      "execution_count": null,
      "metadata": {
        "colab": {
          "base_uri": "https://localhost:8080/"
        },
        "id": "iH8j650_17h6",
        "outputId": "c89f0129-a60d-4e03-bcca-5c2d0e151211"
      },
      "outputs": [
        {
          "name": "stdout",
          "output_type": "stream",
          "text": [
            "Help on function cogeDatos in module __main__:\n",
            "\n",
            "cogeDatos()\n",
            "    Devuelve nombre, apellidos y edad recogidos de consola\n",
            "\n"
          ]
        }
      ],
      "source": [
        "def cogeDatos():\n",
        "  \"\"\"Devuelve nombre, apellidos y edad recogidos de consola\"\"\"\n",
        "  nombre = input(\"nombre: \")\n",
        "  apellidos = input(\"apellidos: \")\n",
        "  edad = input(\"edad: \")\n",
        "  return nombre, apellidos, edad\n",
        "\n",
        "help(cogeDatos)"
      ]
    },
    {
      "cell_type": "markdown",
      "metadata": {
        "id": "fusZ9QBu2TE1"
      },
      "source": [
        "## Problema\n",
        "Escribe un programa que acepte tres parámetros: dos números y un carácter. Si el carácter es '+' los números se suman, con '-' se restan, con '*' se multiplican, con '/' se dividen, y con '^' se\n",
        "eleva el primero al segundo. Crea una función que acepte estos tres datos y devuelva el resultado del cálculo. Crea otra función que pida los datos necesarios."
      ]
    },
    {
      "cell_type": "code",
      "execution_count": null,
      "metadata": {
        "id": "W4XsTNg027FV"
      },
      "outputs": [],
      "source": [
        "def pedir (msg):\n",
        "    valor = input(msg)\n",
        "    return valor\n",
        "\n",
        "def calculadora (num1 , num2 , operador):\n",
        "    if operador == '+':\n",
        "        resultado = (num1 + num2)\n",
        "    elif operador == '-':\n",
        "        resultado = (num1 - num2)\n",
        "    elif operador == '*':\n",
        "        resultado = (num1 * num2)\n",
        "    elif operador == '/':\n",
        "        resultado = (num1 / num2)\n",
        "    elif operador == '^':\n",
        "        resultado = (num1 ** num2)\n",
        "    else:\n",
        "        print(\"Error\")\n",
        "        resultado = None\n",
        "    return resultado\n",
        "\n",
        "num1 = float(pedir(\"Introduce el primer número: \"))\n",
        "num2 = float(pedir(\"Introduce el segundo número: \"))\n",
        "operador = pedir(\"Introduce + , - , * , / , o ^ en función de la operación que quieras realizar\")\n",
        "print(calculadora(num1,num2,operador))"
      ]
    },
    {
      "cell_type": "markdown",
      "metadata": {
        "id": "ouwycwNT2-am"
      },
      "source": [
        "#Clases y Objetos\n"
      ]
    },
    {
      "cell_type": "markdown",
      "metadata": {
        "id": "oks8FzZA7-Yz"
      },
      "source": [
        "Hasta ahora hemos visto componentes de programación estructurada, como puede tener un lenguaje como C. Pero Python también permite Programación Orientada a Objetos. El modelo de python se basa puramente en objetos, aunque algunos estén marcados con denominación de clase. Estas clases existen en tiempo de ejecución, y además son manipulables, permitiendo reflexión estructural en ellas."
      ]
    },
    {
      "cell_type": "markdown",
      "metadata": {
        "id": "LoVBQomj9CqI"
      },
      "source": [
        "Para utilizar python es muy habitual recurrir a librerías externas que ofrecen funcionalidades extra. Estas librerías han de estar instaladas en el sistema, y se acceden mediante la palabra reservada *import*"
      ]
    },
    {
      "cell_type": "code",
      "execution_count": 1,
      "metadata": {
        "colab": {
          "base_uri": "https://localhost:8080/"
        },
        "id": "MbukNCpo9VNd",
        "outputId": "c376d774-684b-4a86-8da7-75f51cf42244"
      },
      "outputs": [
        {
          "name": "stdout",
          "output_type": "stream",
          "text": [
            "3.141592653589793\n"
          ]
        }
      ],
      "source": [
        "import math\n",
        "print(math.pi)"
      ]
    },
    {
      "cell_type": "markdown",
      "metadata": {
        "id": "PylNUaoG9jUp"
      },
      "source": [
        "Un import simplemente consiste en un archivo python con funciones y clases. Para saber si se está en el programa principal se puede utilizar la variable global \\_\\_name__. Si está siendo importado como módulo devolverá el nombre del módulo, mientras que si está en el programa principal devolverá main."
      ]
    },
    {
      "cell_type": "markdown",
      "metadata": {
        "id": "x72_0Z-iXYri"
      },
      "source": [
        "##Clases\n",
        "La encapsulación dentro de python se realizan mediante métodos dentro de la propia clase. En python, cuando tienes un método dentro de una clase, es obligatorio incluír la referencia self de manera explícita. Esta es la referencia a la clase que contiene el método. El constructor de la clase es un método llamado \\_\\_init__(self). Si un método necesita más parámetros, estos de definirán posteriormente al self. \n",
        "Los atributos de la clase se definen cuando son utilizados por primera vez. Se declaran a través de self, bien dentro del constructor de la clase o al ser utilizados por primera vez en una función."
      ]
    },
    {
      "cell_type": "code",
      "execution_count": 5,
      "metadata": {
        "colab": {
          "base_uri": "https://localhost:8080/"
        },
        "id": "DeuowWXy9hWq",
        "outputId": "c0287c03-c1b6-475c-e7d1-dd37df42347c"
      },
      "outputs": [
        {
          "name": "stdout",
          "output_type": "stream",
          "text": [
            "(5, 8)\n"
          ]
        }
      ],
      "source": [
        "class Punto:\n",
        "  def __init__(self,x,y):\n",
        "    self.__x = x\n",
        "    self.__y = y\n",
        "  \n",
        "  def get_x(self):\n",
        "    return self.__x\n",
        "  \n",
        "  def get_y(self):\n",
        "    return self.__y\n",
        "\n",
        "p1 = Punto(5,8)\n",
        "print(\"({0}, {1})\".format(p1.get_x(), p1.get_y()))"
      ]
    },
    {
      "cell_type": "markdown",
      "metadata": {
        "id": "f3hEB5-dcAHy"
      },
      "source": [
        "Python no distingue entre visibilidad pública y privada. Pero las variables se pueden nombrar con el prefijo \\_\\_ y será más difícil acceder a ellas desde fuera de la clase. \n",
        "Para evitar problemas de visibilidad de atributos, python desarrolló las propiedades. Las propiedades se crean con el decorador @property, y se consideran mejor práctica al uso de getters y setters. Una propiedad no es necesario que permita tanto lectura como escritura."
      ]
    },
    {
      "cell_type": "code",
      "execution_count": 11,
      "metadata": {
        "colab": {
          "base_uri": "https://localhost:8080/"
        },
        "id": "5_kq4WtWdY_2",
        "outputId": "64e6e396-fdde-4242-d655-64752df9e49e"
      },
      "outputs": [
        {
          "name": "stdout",
          "output_type": "stream",
          "text": [
            "(10, 7)\n"
          ]
        }
      ],
      "source": [
        "class Punto:\n",
        "  def __init__(self,x,y):\n",
        "    self.x=x\n",
        "    self.y=y\n",
        "  \n",
        "  @property\n",
        "  def x(self):\n",
        "    return self.__x\n",
        "  \n",
        "  @x.setter\n",
        "  def x(self,x):\n",
        "    self.__x = x\n",
        "  \n",
        "  @property\n",
        "  def y(self):\n",
        "    return self.__y\n",
        "  \n",
        "  @y.setter\n",
        "  def y(self,y):\n",
        "    self.__y=y\n",
        "\n",
        "p1 = Punto(3,7)\n",
        "p1.x = 10\n",
        "print(\"({0}, {1})\".format(p1.x, p1.y))"
      ]
    },
    {
      "cell_type": "markdown",
      "metadata": {
        "id": "noUNVpYifFaS"
      },
      "source": [
        "La funcion isinstance acepta dos parámetros, un objeto y una clase, y devuelve true si el primero es una instancia del segundo"
      ]
    },
    {
      "cell_type": "code",
      "execution_count": 12,
      "metadata": {
        "colab": {
          "base_uri": "https://localhost:8080/"
        },
        "id": "Ja8Z9ieRnQOx",
        "outputId": "433c06ab-d50c-4180-a8a6-d2cc08b79a05"
      },
      "outputs": [
        {
          "name": "stdout",
          "output_type": "stream",
          "text": [
            "True\n",
            "False\n"
          ]
        }
      ],
      "source": [
        "print(isinstance(10,int))\n",
        "print(isinstance(10,str))"
      ]
    },
    {
      "cell_type": "markdown",
      "metadata": {
        "id": "9oMtqkAKngwB"
      },
      "source": [
        "Las clases de los tipos primitivos de python son int, long, float, str, bool. El módulo numbers tambien tiene ciertas clases de tipos básicos útiles: numbers.Number, numbers.Integral, numbers.Real"
      ]
    },
    {
      "cell_type": "markdown",
      "metadata": {
        "id": "N2NgfXfhn5_K"
      },
      "source": [
        "##Metodos\n",
        "###Métodos Estáticos\n",
        "Los métodos estáticos son aquellos que pertenecen a la clase, y por lo tanto no llevan el parámetro self. Se utiliza el decorador @staticmethod.\n"
      ]
    },
    {
      "cell_type": "code",
      "execution_count": 13,
      "metadata": {
        "colab": {
          "base_uri": "https://localhost:8080/"
        },
        "id": "EAUyvX0Oosep",
        "outputId": "8b9ac548-d13e-4239-b1cd-460c2df86e7d"
      },
      "outputs": [
        {
          "name": "stdout",
          "output_type": "stream",
          "text": [
            "(5, 6)\n",
            "(0, 0)\n"
          ]
        }
      ],
      "source": [
        "class Punto:\n",
        "  @staticmethod\n",
        "  def get_org():\n",
        "    return Punto(0, 0)\n",
        "  \n",
        "  def __init__(self, x, y):\n",
        "    self.x = x\n",
        "    self.y = y\n",
        "\n",
        "  @property\n",
        "  def x(self):\n",
        "    return self.__x\n",
        "  \n",
        "  @x.setter\n",
        "  def x(self, v):\n",
        "    self.__x = v\n",
        "\n",
        "  @property\n",
        "  def y(self):\n",
        "    return self.__y\n",
        "\n",
        "  @y.setter\n",
        "  def y(self, v):\n",
        "    self.__y = v\n",
        "\n",
        "p1 = Punto(5, 6)\n",
        "print(\"({0}, {1})\".format(p1.x, p1.y))\n",
        "p0 = Punto.get_org()\n",
        "print(\"({0}, {1})\".format(p0.x, p0.y))\n"
      ]
    },
    {
      "cell_type": "markdown",
      "metadata": {
        "id": "kNTlUtKwqSwJ"
      },
      "source": [
        "###Metodos Especiales\n",
        "Existen ciertas funciones en python que el intérprete llamará cuando esté utilizando algunos operadores. Por ejemplo, el método \\_\\_str__() será el método que se utilice para convertir el objeto a texto mediante la función str(). "
      ]
    },
    {
      "cell_type": "markdown",
      "metadata": {
        "id": "3LGEO8y-rK_5"
      },
      "source": [
        "| Funcion | Operador  |\n",
        "|-------------------|----|\n",
        "| \\_\\_gt__(self,otro) | >  |\n",
        "| \\_\\_ge__(self,otro) | >= |   \n",
        "| \\_\\_lt__(self,otro) |  <  |\n",
        "| \\_\\_le__(self,otro) | <=   |\n",
        "| \\_\\_eq__(self,otro) |  ==  |\n",
        "| \\_\\_neq__(self,otro) |  !=  |\n",
        "| \\_\\_add__(self,otro) |  +  |\n",
        "| \\_\\_sub__(self,otro) |  -  |\n",
        "| \\_\\_mul__(self,otro) |  *  |\n",
        "| \\_\\_truediv__(self,otro) |  /  |\n",
        "| \\_\\_floordiv__(self,otro) |  //  |\n",
        "| \\_\\_mod__(self,otro) |  %  |            "
      ]
    },
    {
      "cell_type": "code",
      "execution_count": 15,
      "metadata": {
        "colab": {
          "base_uri": "https://localhost:8080/"
        },
        "id": "tx5JaYgCseZh",
        "outputId": "347ef802-5faa-4ea5-cca4-e615a42751f9"
      },
      "outputs": [
        {
          "name": "stdout",
          "output_type": "stream",
          "text": [
            "False\n",
            "True\n"
          ]
        }
      ],
      "source": [
        "class Punto:\n",
        "  @staticmethod\n",
        "  def get_org():\n",
        "    return Punto(0, 0)\n",
        "  \n",
        "  def __init__(self, x, y):\n",
        "    self.x = x\n",
        "    self.y = y\n",
        "\n",
        "  @property\n",
        "  def x(self):\n",
        "    return self.__x\n",
        "  \n",
        "  @x.setter\n",
        "  def x(self, v):\n",
        "    self.__x = v\n",
        "\n",
        "  @property\n",
        "  def y(self):\n",
        "    return self.__y\n",
        "\n",
        "  @y.setter\n",
        "  def y(self, v):\n",
        "    self.__y = v\n",
        "  \n",
        "  def __eq__(self,p2):\n",
        "    if not (isinstance(p2,Punto)):\n",
        "      return false\n",
        "    else:\n",
        "      return self.__x == p2.x and self.__y == p2.y\n",
        "\n",
        "\n",
        "p1 = Punto(5, 6)\n",
        "p2 = Punto(5,6)\n",
        "p3= Punto (5,9)\n",
        "print(p1==p3)\n",
        "print(p1==p2)\n"
      ]
    },
    {
      "cell_type": "markdown",
      "metadata": {
        "id": "aX1_OrWFuCIL"
      },
      "source": [
        "Además, existen una serie de métodos especiales orientados a trabajar con contenedores. "
      ]
    },
    {
      "cell_type": "markdown",
      "metadata": {
        "id": "aJpOtz39uQAC"
      },
      "source": [
        "| Funcion | explicacion  |\n",
        "|-------------------|----|\n",
        "| \\_\\_len__(self) | numero de elementos  |\n",
        "| \\_\\_getitem__(self,i) | Obtener elemento i |\n",
        "| \\_\\_setitem__(self,i,x) | modificar elemento i con valor x |\n",
        "| \\_\\_delitem__(self,i) | eliminar posicion i |\n",
        "| \\_\\_contains__(self,x) | contiene x |\n"
      ]
    },
    {
      "cell_type": "markdown",
      "metadata": {
        "id": "wYN_SMPkvFnK"
      },
      "source": [
        "##Reflexión\n",
        "Python es un lenguaje de programación completamente dinámico, que no realiza apenas comprobaciones en tiempo de ejecución. Cuando se llama a un método que no se encuentra en un objeto se lanza la excepcion AttributeError. \n",
        "Para interrogar a un objeto sobre su clase o miembros se utiliza la funcion dir()"
      ]
    },
    {
      "cell_type": "code",
      "execution_count": 17,
      "metadata": {
        "colab": {
          "base_uri": "https://localhost:8080/"
        },
        "id": "Sh5XqEqau4O9",
        "outputId": "4bcd243b-b04e-48d9-8540-9a739c591806"
      },
      "outputs": [
        {
          "data": {
            "text/plain": [
              "['__doc__',\n",
              " '__loader__',\n",
              " '__name__',\n",
              " '__package__',\n",
              " '__spec__',\n",
              " 'acos',\n",
              " 'acosh',\n",
              " 'asin',\n",
              " 'asinh',\n",
              " 'atan',\n",
              " 'atan2',\n",
              " 'atanh',\n",
              " 'ceil',\n",
              " 'copysign',\n",
              " 'cos',\n",
              " 'cosh',\n",
              " 'degrees',\n",
              " 'e',\n",
              " 'erf',\n",
              " 'erfc',\n",
              " 'exp',\n",
              " 'expm1',\n",
              " 'fabs',\n",
              " 'factorial',\n",
              " 'floor',\n",
              " 'fmod',\n",
              " 'frexp',\n",
              " 'fsum',\n",
              " 'gamma',\n",
              " 'gcd',\n",
              " 'hypot',\n",
              " 'inf',\n",
              " 'isclose',\n",
              " 'isfinite',\n",
              " 'isinf',\n",
              " 'isnan',\n",
              " 'ldexp',\n",
              " 'lgamma',\n",
              " 'log',\n",
              " 'log10',\n",
              " 'log1p',\n",
              " 'log2',\n",
              " 'modf',\n",
              " 'nan',\n",
              " 'pi',\n",
              " 'pow',\n",
              " 'radians',\n",
              " 'remainder',\n",
              " 'sin',\n",
              " 'sinh',\n",
              " 'sqrt',\n",
              " 'tan',\n",
              " 'tanh',\n",
              " 'tau',\n",
              " 'trunc']"
            ]
          },
          "execution_count": 17,
          "metadata": {},
          "output_type": "execute_result"
        }
      ],
      "source": [
        "import math\n",
        "dir(math)"
      ]
    },
    {
      "cell_type": "markdown",
      "metadata": {
        "id": "2vgNPUe4zdHh"
      },
      "source": [
        "Es posible capturar la excepcion AttributeError mediante el método \\_\\_getattr__(). De manera si no se encuentra un atributo en el objeto este método puede ofrecer una alternativa"
      ]
    },
    {
      "cell_type": "code",
      "execution_count": 22,
      "metadata": {
        "colab": {
          "base_uri": "https://localhost:8080/",
          "height": 338
        },
        "id": "mcE7e55Wzcqi",
        "outputId": "78b9fe58-d57f-4f91-f30e-733251be4fb2"
      },
      "outputs": [
        {
          "name": "stdout",
          "output_type": "stream",
          "text": [
            "<__main__.Punto object at 0x7f9efdbf2090>\n"
          ]
        },
        {
          "ename": "AttributeError",
          "evalue": "ignored",
          "output_type": "error",
          "traceback": [
            "\u001b[0;31m---------------------------------------------------------------------------\u001b[0m",
            "\u001b[0;31mAttributeError\u001b[0m                            Traceback (most recent call last)",
            "\u001b[0;32m<ipython-input-22-00fa33ce312c>\u001b[0m in \u001b[0;36m<module>\u001b[0;34m()\u001b[0m\n\u001b[1;32m     33\u001b[0m \u001b[0ma\u001b[0m \u001b[0;34m=\u001b[0m \u001b[0mPunto\u001b[0m\u001b[0;34m(\u001b[0m\u001b[0;36m1\u001b[0m\u001b[0;34m,\u001b[0m\u001b[0;36m2\u001b[0m\u001b[0;34m)\u001b[0m\u001b[0;34m\u001b[0m\u001b[0;34m\u001b[0m\u001b[0m\n\u001b[1;32m     34\u001b[0m \u001b[0mprint\u001b[0m\u001b[0;34m(\u001b[0m\u001b[0ma\u001b[0m\u001b[0;34m.\u001b[0m\u001b[0mbase\u001b[0m\u001b[0;34m)\u001b[0m\u001b[0;34m\u001b[0m\u001b[0;34m\u001b[0m\u001b[0m\n\u001b[0;32m---> 35\u001b[0;31m \u001b[0mprint\u001b[0m\u001b[0;34m(\u001b[0m\u001b[0ma\u001b[0m\u001b[0;34m.\u001b[0m\u001b[0mpatata\u001b[0m\u001b[0;34m)\u001b[0m\u001b[0;34m\u001b[0m\u001b[0;34m\u001b[0m\u001b[0m\n\u001b[0m",
            "\u001b[0;32m<ipython-input-22-00fa33ce312c>\u001b[0m in \u001b[0;36m__getattr__\u001b[0;34m(self, nombre)\u001b[0m\n\u001b[1;32m     28\u001b[0m       \u001b[0;32mreturn\u001b[0m \u001b[0mPunto\u001b[0m\u001b[0;34m.\u001b[0m\u001b[0mget_org\u001b[0m\u001b[0;34m(\u001b[0m\u001b[0;34m)\u001b[0m\u001b[0;34m\u001b[0m\u001b[0;34m\u001b[0m\u001b[0m\n\u001b[1;32m     29\u001b[0m     \u001b[0;32melse\u001b[0m\u001b[0;34m:\u001b[0m\u001b[0;34m\u001b[0m\u001b[0;34m\u001b[0m\u001b[0m\n\u001b[0;32m---> 30\u001b[0;31m       \u001b[0;32mraise\u001b[0m \u001b[0mAttributeError\u001b[0m\u001b[0;34m(\u001b[0m\u001b[0;34m\"No existe el atributo \"\u001b[0m \u001b[0;34m+\u001b[0m \u001b[0mnombre\u001b[0m\u001b[0;34m)\u001b[0m\u001b[0;34m\u001b[0m\u001b[0;34m\u001b[0m\u001b[0m\n\u001b[0m\u001b[1;32m     31\u001b[0m \u001b[0;34m\u001b[0m\u001b[0m\n\u001b[1;32m     32\u001b[0m \u001b[0;34m\u001b[0m\u001b[0m\n",
            "\u001b[0;31mAttributeError\u001b[0m: No existe el atributo patata"
          ]
        }
      ],
      "source": [
        "class Punto:\n",
        "  @staticmethod\n",
        "  def get_org():\n",
        "    return Punto(0, 0)\n",
        "  \n",
        "  def __init__(self, x, y):\n",
        "    self.x = x\n",
        "    self.y = y\n",
        "\n",
        "  @property\n",
        "  def x(self):\n",
        "    return self.__x\n",
        "  \n",
        "  @x.setter\n",
        "  def x(self, v):\n",
        "    self.__x = v\n",
        "\n",
        "  @property\n",
        "  def y(self):\n",
        "    return self.__y\n",
        "\n",
        "  @y.setter\n",
        "  def y(self, v):\n",
        "    self.__y = v\n",
        "  \n",
        "  def __getattr__(self,nombre):\n",
        "    if(nombre == \"base\"):\n",
        "      return Punto.get_org()\n",
        "    else:\n",
        "      raise AttributeError(\"No existe el atributo \" + nombre)\n",
        "\n",
        "\n",
        "a = Punto(1,2)\n",
        "print(a.base)\n",
        "print(a.patata)"
      ]
    },
    {
      "cell_type": "markdown",
      "metadata": {
        "id": "YFQmZUkV1paj"
      },
      "source": [
        "## Ejercicio\n",
        "Crea una clase para manejar números complejos\n",
        "Esta ha de permitir suma, resta, multiplicacion, division, igualdad y ha de poder convertise en cadena con el formato \"a + bi\". Ten en cuenta que i**2 = -1."
      ]
    },
    {
      "cell_type": "code",
      "execution_count": null,
      "metadata": {},
      "outputs": [],
      "source": [
        "class Complejo:\n",
        "    def __init__ (self,valora,valorb):\n",
        "        self.__real = valora\n",
        "        self.__imaginario = valorb\n",
        "\n",
        "    def __add__ (self,v):\n",
        "        if isinstance(v,Complejo):\n",
        "            return (self.__real + v.__real),(self.__imaginario + v.__imaginario)\n",
        "        else:\n",
        "            raise Exception(\"No se puede comparar un complejo con otro tipo de dato, inserte de nuevo los valores\")\n",
        "\n",
        "    def __sub__ (self,v):\n",
        "        if isinstance(v,Complejo):\n",
        "            return (self.__real - v.__real),(self.__imaginario - v.__imaginario)\n",
        "        else:\n",
        "            raise Exception(\"No se puede comparar un complejo con otro tipo de dato, inserte de nuevo los valores\")\n",
        "\n",
        "    def __mul__ (self,v):\n",
        "        if isinstance(v,Complejo):\n",
        "            return ((self.__real * v.__real)-(self.__imaginario * v.__imaginario)),((self.__real * v.__imaginario) + (self.__imaginario * v.__real))\n",
        "        else:\n",
        "            raise Exception(\"No se puede comparar un complejo con otro tipo de dato, inserte de nuevo los valores\")\n",
        "    \n",
        "    def __truediv__ (self,v):\n",
        "        if isinstance(v,Complejo):\n",
        "            return (((self.__real * v.__real) + (self.__imaginario * v.__imaginario))/((v.__real ** 2) + (v.__imaginario ** 2))) , (((self.__imaginario * v.__real) - (self.__real * v.__imaginario))/((v.__real ** 2) + (v.__imaginario ** 2)))\n",
        "        else:\n",
        "            raise Exception(\"No se puede comparar un complejo con otro tipo de dato, inserte de nuevo los valores\")\n",
        "\n",
        "    def __eq__ (self,v):\n",
        "        if (self.__real == v.__real) and (self.__imaginario == v.__imaginario):\n",
        "            return True\n",
        "        else:\n",
        "            return False\n",
        "\n",
        "    def __str__ (self,):\n",
        "        return \"({0} + {1} i)\".format(self.__real , self.__imaginario)\n",
        "        \n",
        "\n",
        "firsta = int(input(\"Introduzca la parte real del primer número: \"))\n",
        "firstb = int(input(\"Introduzca la parte imaginaria del primer número: \"))\n",
        "seconda = int(input(\"Introduzca la parte real del segundo número: \"))\n",
        "secondb = int(input(\"Introduzca la parte imaginaria del segundo número: \"))\n",
        "\n",
        "print(Complejo(firsta,firstb)+Complejo(seconda,secondb))\n",
        "print(Complejo(firsta,firstb)-Complejo(seconda,secondb))\n",
        "print(Complejo(firsta,firstb) * Complejo(seconda,secondb))\n",
        "print(Complejo(firsta,firstb) / Complejo(seconda,secondb))\n",
        "print(Complejo(firsta,firstb))\n",
        "print(Complejo(seconda,secondb))\n",
        "print(Complejo(firsta,firstb) == Complejo(seconda,secondb))\n"
      ]
    },
    {
      "cell_type": "markdown",
      "metadata": {
        "id": "dOKaAuT32VDq"
      },
      "source": [
        "# Polimorfismo\n"
      ]
    },
    {
      "cell_type": "markdown",
      "metadata": {
        "id": "ouMgmEmckBcp"
      },
      "source": [
        "## Composición\n",
        "Una vez conocemos como crear e instanciar objetos, podemos utilizar clases más simples para crear objetos complejos. El ejemplo clásico es utilizar dos instancias de la clase punto para instanciar la clase línea. "
      ]
    },
    {
      "cell_type": "code",
      "execution_count": 2,
      "metadata": {
        "colab": {
          "base_uri": "https://localhost:8080/"
        },
        "id": "MMetXUBvfqNq",
        "outputId": "e65a0533-b7cc-4a5c-8101-22491d9bd54e"
      },
      "outputs": [
        {
          "name": "stdout",
          "output_type": "stream",
          "text": [
            "((1.00,3.00),(2.00,4.00))\n"
          ]
        }
      ],
      "source": [
        "import math\n",
        "import numbers\n",
        "\n",
        "class Punto:\n",
        "  @staticmethod\n",
        "  def get_org():\n",
        "    return Punto(0, 0)\n",
        "  \n",
        "  def __init__(self, x, y):\n",
        "    self.x = x\n",
        "    self.y = y\n",
        "\n",
        "  @property\n",
        "  def x(self):\n",
        "    return self.__x\n",
        "  \n",
        "  @x.setter\n",
        "  def x(self, v):\n",
        "    self.__x = v\n",
        "\n",
        "  @property\n",
        "  def y(self):\n",
        "    return self.__y\n",
        "\n",
        "  @y.setter\n",
        "  def y(self, v):\n",
        "    self.__y = v\n",
        "  \n",
        "  def distancia(self):\n",
        "    \"\"\" retorna la distancia desde el origen hasta este punto \"\"\"\n",
        "    return math.sqrt((self.x**2)+(self.y**2))\n",
        "\n",
        "  def __str__(self):\n",
        "    return \"({0:.2f},{1:.2f})\".format(self.x,self.y)\n",
        "  \n",
        "class linea:\n",
        "  def __init__(self,x1,y1,x2,y2):\n",
        "    self.__p1 = Punto(x1,y1)\n",
        "    self.__p2 = Punto(x2,y2)\n",
        "\n",
        "  @property\n",
        "  def p1(self):\n",
        "    return self.__p1\n",
        "  \n",
        "  @property\n",
        "  def p2(self):\n",
        "    return self.__p2\n",
        "  \n",
        "  def __str__(self):\n",
        "    return \"({0},{1})\".format(self.p1,self.p2)\n",
        "\n",
        "a = linea(1,3,2,4)\n",
        "print(a)\n"
      ]
    },
    {
      "cell_type": "markdown",
      "metadata": {
        "id": "7WFj9HdbiCpT"
      },
      "source": [
        "## Herencia\n",
        "Python soporta herencia múltiple. Esto significa que una subclase puede tener varias superclases. La funcion super permite acceder a los métodos de la clase padre"
      ]
    },
    {
      "cell_type": "code",
      "execution_count": 4,
      "metadata": {
        "colab": {
          "base_uri": "https://localhost:8080/"
        },
        "id": "AktaNBroiTZx",
        "outputId": "aed0bc0a-577b-449d-ee82-6266bf6bb7b1"
      },
      "outputs": [
        {
          "name": "stdout",
          "output_type": "stream",
          "text": [
            "Brais (23)\n",
            "Brais (23) en UvigoMotorsport: brais.fontan.costas@uvigomotorsport.com\n"
          ]
        }
      ],
      "source": [
        "class Persona:\n",
        "  def __init__(self, nombre, edad):\n",
        "    self.__nombre = nombre\n",
        "    self.__edad = edad\n",
        "  \n",
        "  @property\n",
        "  def nombre(self):\n",
        "    return self.__nombre\n",
        "  \n",
        "  @property\n",
        "  def edad(self):\n",
        "    return self.__edad\n",
        "  \n",
        "  def __str__(self):\n",
        "    return self.nombre + \" (\" + str( self.edad ) + \")\"\n",
        "\n",
        "class Empleado(Persona):\n",
        "  def __init__(self, nombre, edad, empresa, email):\n",
        "    super().__init__(nombre, edad)\n",
        "    self.__empresa = empresa\n",
        "    self.__email = email\n",
        "  \n",
        "  @property\n",
        "  def empresa(self):\n",
        "    return self.__empresa\n",
        "  \n",
        "  @property\n",
        "  def email(self):\n",
        "    return self.__email\n",
        "  \n",
        "  def __str__(self):\n",
        "    toret = super().__str__()\n",
        "    toret += \" en \" + self.empresa\n",
        "    toret += \": \" + self.email\n",
        "    return toret\n",
        "  \n",
        "\n",
        "print(Persona(\"Brais\",23))\n",
        "print(Empleado(\"Brais\",23,\"UvigoMotorsport\",\"brais.fontan.costas@uvigomotorsport.com\"))"
      ]
    },
    {
      "cell_type": "markdown",
      "metadata": {
        "id": "fWBAOqxcjeOK"
      },
      "source": [
        "##Problema\n",
        "En UvigoMotorsport utilizamos el formato darknet yolo para devolver las coordenadas de los algoritmos de detección de imagen al SLAM. Pero también existen otros formatos como pueden ser el formato VOC. Crea una clase etiquetaImagen que pueda instanciar elementos de tanto VOC como darknet yolo. Ha de existir un método que devuelva la clase, otro que devuelva el punto medio de la etiqueta, y otro que devuelva el alto y el ancho de la misma."
      ]
    },
    {
      "cell_type": "code",
      "execution_count": 6,
      "metadata": {},
      "outputs": [
        {
          "name": "stdout",
          "output_type": "stream",
          "text": [
            "(100, 60)\n"
          ]
        }
      ],
      "source": [
        "class etiquetaImagen:\n",
        "    def __init__(self, color, x, y, altura, ancho):\n",
        "        self.color = color\n",
        "        self.x = x\n",
        "        self.y = y\n",
        "        self.altura = altura\n",
        "        self.ancho = ancho\n",
        "    @property\n",
        "    def clase(self):\n",
        "        return self.color\n",
        "    @property\n",
        "    def medio(self):\n",
        "        return (self.x, self.y)\n",
        "\n",
        "    @property\n",
        "    def size(self):\n",
        "        return (self.altura, self.ancho)\n",
        "\n",
        "class YOLO(etiquetaImagen):\n",
        "    def __init__(self, color, x, y, altura, ancho):\n",
        "        super().__init__(color, x, y, altura, ancho)\n",
        "\n",
        "\n",
        "\n",
        "class VOC(etiquetaImagen):\n",
        "    def __init__(self, color, xmin, xmax, ymin, ymax):\n",
        "        super().__init__(color, (xmin + xmax)/2, (ymin + ymax)/2, (ymax - ymin), (xmax - xmin))\n",
        "\n",
        "print(YOLO(\"Red\",10,50,100,60).size)\n",
        "\n"
      ]
    }
  ],
  "metadata": {
    "colab": {
      "authorship_tag": "ABX9TyMyTF8nabKekJCl6MZdBMyG",
      "collapsed_sections": [],
      "include_colab_link": true,
      "name": "Curso Python Sesion 1",
      "provenance": [],
      "toc_visible": true
    },
    "kernelspec": {
      "display_name": "Python 3",
      "name": "python3"
    },
    "language_info": {
      "codemirror_mode": {
        "name": "ipython",
        "version": 3
      },
      "file_extension": ".py",
      "mimetype": "text/x-python",
      "name": "python",
      "nbconvert_exporter": "python",
      "pygments_lexer": "ipython3",
      "version": "3.9.12"
    }
  },
  "nbformat": 4,
  "nbformat_minor": 0
}
