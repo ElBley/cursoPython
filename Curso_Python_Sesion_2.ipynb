{
  "nbformat": 4,
  "nbformat_minor": 0,
  "metadata": {
    "colab": {
      "name": "Curso Python Sesion 2",
      "provenance": [],
      "collapsed_sections": [],
      "toc_visible": true,
      "authorship_tag": "ABX9TyM5yzj9rC8BpPg0ujo/vrEL",
      "include_colab_link": true
    },
    "kernelspec": {
      "name": "python3",
      "display_name": "Python 3"
    },
    "language_info": {
      "name": "python"
    }
  },
  "cells": [
    {
      "cell_type": "markdown",
      "metadata": {
        "id": "view-in-github",
        "colab_type": "text"
      },
      "source": [
        "<a href=\"https://colab.research.google.com/github/ElBley/cursoPython/blob/main/Curso_Python_Sesion_2.ipynb\" target=\"_parent\"><img src=\"https://colab.research.google.com/assets/colab-badge.svg\" alt=\"Open In Colab\"/></a>"
      ]
    },
    {
      "cell_type": "markdown",
      "source": [
        "# Estructuras de Datos"
      ],
      "metadata": {
        "id": "NXKOCQdB8ezc"
      }
    },
    {
      "cell_type": "markdown",
      "source": [
        "## Listas y diccionarios\n",
        "Python esta fuertemente basado en listas, y practicamente se puede considerar un tipo básico dentro del lenguaje. Son equivalentes a los arrays de otros lenguajes de programacion. \n",
        "Además de las listas, python dispone de otra herramienta muy importante para el manejo de datos que son los diccionarios. Los diccionarios son contenedores relacionales, de manera que se guardan pares clave valor. De esta manera desde una clave se puede recuperar directamente el valor. Es equivalente a los mapas hash de otros lenguajes de programación."
      ],
      "metadata": {
        "id": "UH17yFIa8hXr"
      }
    },
    {
      "cell_type": "markdown",
      "source": [
        "###Listas"
      ],
      "metadata": {
        "id": "U2kHz1OmKkmL"
      }
    },
    {
      "cell_type": "markdown",
      "source": [
        "#### Slicing\n",
        "El slicing es una técnica soportada por listas para recuperar rangos de elementos de la lista. En la sesion 1 vimos un ejemplo de esto con una cadena, que es un caso particular de una lista. \n",
        "Se puede recoger un elemento de una lista indicando el índice entre corchetes. La funcion len() devuelve el tamaño de la lista.\n",
        "Para crear una lista se definen los elementos que la componen separados por comas y todo entre corchetes. Los elementos de una lista pueden ser de distintos tipos."
      ],
      "metadata": {
        "id": "YVQolmyEKozR"
      }
    },
    {
      "cell_type": "code",
      "source": [
        "l = [1,2,3,\"Hola\"]\n",
        "print(l[1])\n",
        "print(l[:2])\n",
        "print(l[0:1])\n",
        "print(l[-1])\n",
        "print(l[:-1])"
      ],
      "metadata": {
        "colab": {
          "base_uri": "https://localhost:8080/"
        },
        "id": "5W07uBLpMNJE",
        "outputId": "7f1a0e91-47a3-4892-b759-db4328715684"
      },
      "execution_count": null,
      "outputs": [
        {
          "output_type": "stream",
          "name": "stdout",
          "text": [
            "2\n",
            "[1, 2]\n",
            "[1]\n",
            "Hola\n",
            "[1, 2, 3]\n"
          ]
        }
      ]
    },
    {
      "cell_type": "markdown",
      "source": [
        "Es posible recuperar un subconjunto de una lista indicando con dos puntos ':' el rango de valores a recuperar. Cuando en una lista se utiliza como índice un número negativo, se interpreta a que se está accediendo desde el final de la lista. De esta manera el elemento -1 siempre será el último elemento. "
      ],
      "metadata": {
        "id": "DmkaBXs1Mi_O"
      }
    },
    {
      "cell_type": "markdown",
      "source": [
        "#### Bucles\n",
        "Cuando dentro de un bucle for utilizamos la funcion range(), en verdad estamos recorriendo una lista de elementos. El bucle for siempre toma como control una lista. En ciertos contextos es necesario conocer el índice de la lista que se está recorriendo en el bucle. Esto se puede hacer mediante la funcion enumerate()"
      ],
      "metadata": {
        "id": "SbcFDljOM7oM"
      }
    },
    {
      "cell_type": "code",
      "source": [
        "print(range(5))\n",
        "print(range(2,6))\n",
        "print(range(1,10,2))\n",
        "l = [1,4,6,7,9]\n",
        "for i in l:\n",
        "  print(i)\n",
        "for index,i in enumerate(l):\n",
        "  print(\"Indice {0}: valor:{1}\".format(index,i))"
      ],
      "metadata": {
        "colab": {
          "base_uri": "https://localhost:8080/"
        },
        "id": "68_1_Q4tR7br",
        "outputId": "e80b4ff3-54e9-4e6d-fe9f-a778e8415fd9"
      },
      "execution_count": null,
      "outputs": [
        {
          "output_type": "stream",
          "name": "stdout",
          "text": [
            "range(0, 5)\n",
            "range(2, 6)\n",
            "range(1, 10, 2)\n",
            "1\n",
            "4\n",
            "6\n",
            "7\n",
            "9\n",
            "Indice 0: valor:1\n",
            "Indice 1: valor:4\n",
            "Indice 2: valor:6\n",
            "Indice 3: valor:7\n",
            "Indice 4: valor:9\n"
          ]
        }
      ]
    },
    {
      "cell_type": "markdown",
      "source": [
        "#### Operadores\n"
      ],
      "metadata": {
        "id": "Gxiy3KhLVxAb"
      }
    },
    {
      "cell_type": "markdown",
      "source": [
        "| Operador | Explicacion |\n",
        "|----------|-------------|\n",
        "|l1 += [4]  | Añade un nuevo elemento 4 a l1|\n",
        "|4 in l1   | Comprueba si 4 está en l1 |\n",
        "|4 not in l1 | Comprueba si 4 no está en l1|\n",
        "| l1 + l2  | Concatena l1 con l2 |\n",
        "| l1 += l2 | Concatena l1 con l2 modificando l1 |\n",
        "| l2 * 2 | Crea dos copias de l2 y las concatena |\n",
        "| l2[1] | Obtiene el elemento 1 de la lista (empieza en 0) |\n",
        "| l2[1:2] | Obtiene una subsecuencia de la posicion 1 a la 2 exclusive |\n",
        "| del l1[0:2] | Elimina una subsecuencia de l1 |\n",
        "| min(l2) | Obtiene el elemento más pequeño de l2 |\n",
        "| max(l2) | Obtiene el elemento más grande de l2 |\n",
        "| l1.count(4) | Cuenta las apariciones de 4 en l1 |"
      ],
      "metadata": {
        "id": "0UBaFaYxWB7i"
      }
    },
    {
      "cell_type": "code",
      "source": [
        "l1 = [1,2,3]\n",
        "l1 +=[4]\n",
        "print(l1)\n",
        "del l1[2:-1]\n",
        "print(l1)\n",
        "l1 = l1 * 2\n",
        "print(l1)"
      ],
      "metadata": {
        "colab": {
          "base_uri": "https://localhost:8080/"
        },
        "id": "kL4x35fqXaze",
        "outputId": "14a07527-a3b9-4c26-f5ea-650a805c170f"
      },
      "execution_count": null,
      "outputs": [
        {
          "output_type": "stream",
          "name": "stdout",
          "text": [
            "[1, 2, 3, 4]\n",
            "[1, 2, 4]\n",
            "[1, 2, 4, 1, 2, 4]\n"
          ]
        }
      ]
    },
    {
      "cell_type": "markdown",
      "source": [
        "#### Comprension\n",
        "La comprension de una lista consiste principalmente en poder aplicar una operación a cada uno de los elementos de la lista. La sintaxis es similar a la de un bucle for, pero se encierra en corchetes para indicar que el resultado también es una lista. Las funcinonalidades principales de la comprensión son la conversión y el filtrado."
      ],
      "metadata": {
        "id": "_n_Spdy-XaNV"
      }
    },
    {
      "cell_type": "code",
      "source": [
        "l = [1, 2, 3, 4, 5, 6, 7, 8, 9, 10]\n",
        "print([x for x in l if x % 2 == 0])\n",
        "print([float(x) for x in l if x % 3 == 0])"
      ],
      "metadata": {
        "colab": {
          "base_uri": "https://localhost:8080/"
        },
        "id": "rYlaH6gsf_sQ",
        "outputId": "f91e1cfe-3d10-47f4-a108-80c2a7b2f4f9"
      },
      "execution_count": null,
      "outputs": [
        {
          "output_type": "stream",
          "name": "stdout",
          "text": [
            "[2, 4, 6, 8, 10]\n",
            "[3.0, 6.0, 9.0]\n"
          ]
        }
      ]
    },
    {
      "cell_type": "markdown",
      "source": [
        "###Diccionarios\n",
        "Para crear un diccionario se utilizan las llaves {} de manera similar a los corchetes con las listas. También se puede utilizar la funcion dict() para construir diccionarios. Igual que con las listas, los diccionarios pueden contener elementos de distintos tipos. Cada elemento de un diccionario es un par clave-valor."
      ],
      "metadata": {
        "id": "ngTop-C5g7Oj"
      }
    },
    {
      "cell_type": "code",
      "source": [
        "temperaturas = {\"Ourense\": 30, \"Vigo\":27, \"Pontevedra\":24}\n",
        "print(temperaturas[\"Ourense\"])\n",
        "temperaturas[\"Ourense\"]+=1\n",
        "print(temperaturas[\"Ourense\"])\n",
        "print(temperaturas.get(\"Pontevedra\"))\n",
        "print(len(temperaturas))\n",
        "print(temperaturas.get(\"Lugo\"))\n",
        "print(temperaturas[\"Lugo\"])"
      ],
      "metadata": {
        "colab": {
          "base_uri": "https://localhost:8080/",
          "height": 299
        },
        "id": "n1iiNCAEIVQ9",
        "outputId": "dab12608-da7d-4ad1-8522-b3c86d16e578"
      },
      "execution_count": null,
      "outputs": [
        {
          "output_type": "stream",
          "name": "stdout",
          "text": [
            "30\n",
            "31\n",
            "24\n",
            "3\n",
            "None\n"
          ]
        },
        {
          "output_type": "error",
          "ename": "KeyError",
          "evalue": "ignored",
          "traceback": [
            "\u001b[0;31m---------------------------------------------------------------------------\u001b[0m",
            "\u001b[0;31mKeyError\u001b[0m                                  Traceback (most recent call last)",
            "\u001b[0;32m<ipython-input-4-7e19318e4c0a>\u001b[0m in \u001b[0;36m<module>\u001b[0;34m()\u001b[0m\n\u001b[1;32m      6\u001b[0m \u001b[0mprint\u001b[0m\u001b[0;34m(\u001b[0m\u001b[0mlen\u001b[0m\u001b[0;34m(\u001b[0m\u001b[0mtemperaturas\u001b[0m\u001b[0;34m)\u001b[0m\u001b[0;34m)\u001b[0m\u001b[0;34m\u001b[0m\u001b[0;34m\u001b[0m\u001b[0m\n\u001b[1;32m      7\u001b[0m \u001b[0mprint\u001b[0m\u001b[0;34m(\u001b[0m\u001b[0mtemperaturas\u001b[0m\u001b[0;34m.\u001b[0m\u001b[0mget\u001b[0m\u001b[0;34m(\u001b[0m\u001b[0;34m\"Lugo\"\u001b[0m\u001b[0;34m)\u001b[0m\u001b[0;34m)\u001b[0m\u001b[0;34m\u001b[0m\u001b[0;34m\u001b[0m\u001b[0m\n\u001b[0;32m----> 8\u001b[0;31m \u001b[0mprint\u001b[0m\u001b[0;34m(\u001b[0m\u001b[0mtemperaturas\u001b[0m\u001b[0;34m[\u001b[0m\u001b[0;34m\"Lugo\"\u001b[0m\u001b[0;34m]\u001b[0m\u001b[0;34m)\u001b[0m\u001b[0;34m\u001b[0m\u001b[0;34m\u001b[0m\u001b[0m\n\u001b[0m",
            "\u001b[0;31mKeyError\u001b[0m: 'Lugo'"
          ]
        }
      ]
    },
    {
      "cell_type": "markdown",
      "source": [
        "#### Bucles\n",
        "Igual que con las listas, se puede recorrer un bucle for utilizando un diccionario. El diccionario tiene tres métodos que nos pueden ser interesantes para recorrer: keys(), items() y values(). Keys devuelve una lista con todas las claves, values devuelte una lista de los valores, e items dos listas con claves y valores. "
      ],
      "metadata": {
        "id": "znEhZ9YvJbCj"
      }
    },
    {
      "cell_type": "code",
      "source": [
        "temperaturas = {\"Ourense\": 30, \"Vigo\":27, \"Pontevedra\":24}\n",
        "\n",
        "for i in temperaturas.keys():\n",
        "  print(i,temperaturas[i])\n",
        "\n",
        "for i in temperaturas.values():\n",
        "  print(i)\n",
        "\n",
        "for i,j in temperaturas.items():\n",
        "  print(i,j)"
      ],
      "metadata": {
        "colab": {
          "base_uri": "https://localhost:8080/"
        },
        "id": "ORo9f6ZdNhEU",
        "outputId": "af764aea-cf1e-4b63-9617-4bc77acaf8c8"
      },
      "execution_count": null,
      "outputs": [
        {
          "output_type": "stream",
          "name": "stdout",
          "text": [
            "Ourense 30\n",
            "Vigo 27\n",
            "Pontevedra 24\n",
            "30\n",
            "27\n",
            "24\n",
            "Ourense 30\n",
            "Vigo 27\n",
            "Pontevedra 24\n"
          ]
        }
      ]
    },
    {
      "cell_type": "markdown",
      "source": [
        "#### Operadores"
      ],
      "metadata": {
        "id": "xNtcizCOOT0R"
      }
    },
    {
      "cell_type": "markdown",
      "source": [
        "| Operador | Explicacion |\n",
        "|----------|-------------|\n",
        "|d1[8] = 'i'  | Añade el par 9,i al diccionario|\n",
        "|d1[8]  | Devuelve el valor asociado a la clave 9. Da un error si no existe|\n",
        "|d1.get(8) | Devuelve el valor asociado a la clave 9. Devuelve none si no existe|\n",
        "| 4 in d1  | Comprueba si 4 es una clave de d1 |\n",
        "| d1 == d2 | Compara dos diccionarios |\n",
        "| d1.clear() | Borra todos los elementos |\n",
        "| del d1[1] | Elimina la clave 1 y su valor asociado |\n",
        "| min(d2) | Obtiene la clave más pequeña de d2 |\n",
        "| max(d2) | Obtiene la clave más grande de d2 |"
      ],
      "metadata": {
        "id": "x2RiEOprQbw8"
      }
    },
    {
      "cell_type": "code",
      "source": [
        "temperaturas = {\"Ourense\": 30, \"Vigo\":27, \"Pontevedra\":24}\n",
        "temperaturas2 = {\"Ourense\": 30, \"Vigo\":27, \"Pontevedra\":24}\n",
        "\n",
        "print(temperaturas == temperaturas2)\n",
        "temperaturas[\"Lugo\"]= 28\n",
        "print(temperaturas == temperaturas2)\n",
        "print(\"Lugo\" in temperaturas2)\n",
        "del temperaturas2[\"Vigo\"]\n",
        "print(temperaturas2)\n",
        "temperaturas.clear()\n",
        "print(temperaturas)"
      ],
      "metadata": {
        "colab": {
          "base_uri": "https://localhost:8080/"
        },
        "id": "R8Wg3f0rRWdd",
        "outputId": "ab18517b-e0f7-4c88-d818-d0009ea41d07"
      },
      "execution_count": null,
      "outputs": [
        {
          "output_type": "stream",
          "name": "stdout",
          "text": [
            "True\n",
            "False\n",
            "False\n",
            "{'Ourense': 30, 'Pontevedra': 24}\n",
            "{}\n"
          ]
        }
      ]
    },
    {
      "cell_type": "markdown",
      "source": [
        "##Tuplas y conjuntos\n",
        " "
      ],
      "metadata": {
        "id": "ctuN2_B9VoXg"
      }
    },
    {
      "cell_type": "markdown",
      "source": [
        "###Tuplas\n",
        "Python permite el uso de secuencias de valores innmutables, que son las tuplas.\n",
        "Al ser inmutables, las tuplas no permiten ni añadir ni borrar ni modificar elementos, pero si se pueden recoger slices de ellas. Las tuplas se pueden declarar mediante los paréntesis, o mediante el constructor *tuple()*"
      ],
      "metadata": {
        "id": "qOMkBizp1GLu"
      }
    },
    {
      "cell_type": "code",
      "source": [
        "p0 = (5, 6) \n",
        "print(p0[0])\n",
        "print(p0[1])\n",
        "print(p0[-1])\n",
        "print(len(p0))"
      ],
      "metadata": {
        "colab": {
          "base_uri": "https://localhost:8080/"
        },
        "id": "fp_CHvix1itj",
        "outputId": "98228198-0c78-4609-9613-60a5fe70dee9"
      },
      "execution_count": null,
      "outputs": [
        {
          "output_type": "stream",
          "name": "stdout",
          "text": [
            "5\n",
            "6\n",
            "6\n",
            "2\n"
          ]
        }
      ]
    },
    {
      "cell_type": "markdown",
      "source": [
        "| Operador | Explicacion |\n",
        "|----------|-------------|\n",
        "|4 in l1   | Comprueba si 4 está en l1 |\n",
        "|4 not in l1 | Comprueba si 4 no está en l1|\n",
        "| l1 + l2  | Concatena l1 con l2 |\n",
        "| l2 * 2 | Crea dos copias de l2 y las concatena |\n",
        "| l2[1] | Obtiene el elemento 1 de la tupla (empieza en 0) |\n",
        "| l2[1:2] | Obtiene una subsecuencia de la posicion 1 a la 2 exclusive |\n",
        "| del l1[0:-1:2] | Elimina una subsecuencia de l1, tomando elementos de dos en dos |\n",
        "| min(l2) | Obtiene el elemento más pequeño de l2 |\n",
        "| max(l2) | Obtiene el elemento más grande de l2 |\n",
        "| l1.count(4) | Cuenta las apariciones de 4 en l1 |"
      ],
      "metadata": {
        "id": "j-vsipElCe1I"
      }
    },
    {
      "cell_type": "markdown",
      "source": [
        "### Conjuntos\n",
        "Los conjuntos son también una secuencia de valores, pero con la condición añadida de que no se pueden repetir valores. Para crear un conjunto se utiliza el literal entre llaves {1}, o mediante el constructor set() y los elementos pueden ser de distinto tipo. No se puede crear un conjunto vacio mediante el constructor, ya que se construiría un diccionario vacío. "
      ],
      "metadata": {
        "id": "7r1ww0pTGeZ2"
      }
    },
    {
      "cell_type": "code",
      "source": [
        "s = {1,2,3}\n",
        "print(1 in s)\n",
        "print(len(s))"
      ],
      "metadata": {
        "id": "N5EiixOpBknB"
      },
      "execution_count": null,
      "outputs": []
    },
    {
      "cell_type": "markdown",
      "source": [
        "| Operador | Explicacion |\n",
        "|----------|-------------|\n",
        "|4 in s1  | Comprueba si 4 está en s1|\n",
        "|s1-s2| Los elementos de s1 quitando los de s2|\n",
        "|s1 \\| s2 | Concatena los conjuntos|\n",
        "| si & s2  | Elementos en ambos conjuntos |\n",
        "| s1 ^ s2 | Elemenos no repetidos en ambos conjuntos |\n",
        "| min(s1) | Elemento más pequeño |\n",
        "| max(s1) | Elemento más grande |"
      ],
      "metadata": {
        "id": "6s8kyZA328Da"
      }
    },
    {
      "cell_type": "markdown",
      "source": [
        "Para poder recorrer un conjunto es necesario primero convertirlo en una lista. Si una lista se convierte a conjunto automáticamente se eliminan los elementos duplicados."
      ],
      "metadata": {
        "id": "xEtNioHJDIFZ"
      }
    },
    {
      "cell_type": "code",
      "source": [
        "s = {1,2,3}\n",
        "for i in list(s):\n",
        "  print(i)\n",
        "  \n",
        "l = [1,2,1,3,2,3,1,3,2,4,3]\n",
        "print(list(set(l)))"
      ],
      "metadata": {
        "colab": {
          "base_uri": "https://localhost:8080/"
        },
        "id": "gwC28GiVDTro",
        "outputId": "c7e5d876-4615-42ed-adf8-5029d6ff8ce3"
      },
      "execution_count": null,
      "outputs": [
        {
          "output_type": "stream",
          "name": "stdout",
          "text": [
            "1\n",
            "2\n",
            "3\n",
            "[1, 2, 3, 4]\n"
          ]
        }
      ]
    },
    {
      "cell_type": "markdown",
      "source": [
        "## Problema\n",
        "Crea la función interrogaClase que devuelva 2 listas: una de métodos y otra de atributos de una clase concreta (por ejemplo math)."
      ],
      "metadata": {
        "id": "aUvzgwowNgSa"
      }
    },
    {
      "cell_type": "markdown",
      "source": [
        "# Excepciones"
      ],
      "metadata": {
        "id": "0xfg2DTKECZq"
      }
    },
    {
      "cell_type": "markdown",
      "source": [
        "Las excepciones son objetos que interrupen el flujo del programa y que indican errores. Cuando se genera una excepción se sube por toda la pila del programa hasta que en alguna función se captura y se trata. Un ejemplo típico de excepción es la división entre 0."
      ],
      "metadata": {
        "id": "DKgUDqvGM1Sh"
      }
    },
    {
      "cell_type": "code",
      "source": [
        "class Calculadora:\n",
        "  def __init__(self, op1, op2):\n",
        "    self.op1 = op1\n",
        "    self.op2 = op2\n",
        "\n",
        "  @property\n",
        "  def op1(self):\n",
        "    return self.__op1\n",
        "\n",
        "  @op1.setter\n",
        "  def op1(self, x):\n",
        "    self.__op1 = x\n",
        "\n",
        "  @property\n",
        "  def op2(self):\n",
        "    return self.__op2\n",
        "\n",
        "  @op2.setter\n",
        "  def op2(self, x):\n",
        "    self.__op2 = x \n",
        "\n",
        "  def divide(self):\n",
        "    return self.op1 / self.op2\n",
        "\n",
        "calc = Calculadora(5, 6)\n",
        "print(calc.divide())\n",
        "calc.op2 = 0\n",
        "print(calc.divide())"
      ],
      "metadata": {
        "colab": {
          "base_uri": "https://localhost:8080/",
          "height": 354
        },
        "id": "IO4AKH9TNSj0",
        "outputId": "531b1b82-f9c4-41c8-8ffc-5197c6c0176d"
      },
      "execution_count": null,
      "outputs": [
        {
          "output_type": "stream",
          "name": "stdout",
          "text": [
            "0.8333333333333334\n"
          ]
        },
        {
          "output_type": "error",
          "ename": "ZeroDivisionError",
          "evalue": "ignored",
          "traceback": [
            "\u001b[0;31m---------------------------------------------------------------------------\u001b[0m",
            "\u001b[0;31mZeroDivisionError\u001b[0m                         Traceback (most recent call last)",
            "\u001b[0;32m<ipython-input-2-def70f4dfac2>\u001b[0m in \u001b[0;36m<module>\u001b[0;34m()\u001b[0m\n\u001b[1;32m     26\u001b[0m \u001b[0mprint\u001b[0m\u001b[0;34m(\u001b[0m\u001b[0mcalc\u001b[0m\u001b[0;34m.\u001b[0m\u001b[0mdivide\u001b[0m\u001b[0;34m(\u001b[0m\u001b[0;34m)\u001b[0m\u001b[0;34m)\u001b[0m\u001b[0;34m\u001b[0m\u001b[0;34m\u001b[0m\u001b[0m\n\u001b[1;32m     27\u001b[0m \u001b[0mcalc\u001b[0m\u001b[0;34m.\u001b[0m\u001b[0mop2\u001b[0m \u001b[0;34m=\u001b[0m \u001b[0;36m0\u001b[0m\u001b[0;34m\u001b[0m\u001b[0;34m\u001b[0m\u001b[0m\n\u001b[0;32m---> 28\u001b[0;31m \u001b[0mprint\u001b[0m\u001b[0;34m(\u001b[0m\u001b[0mcalc\u001b[0m\u001b[0;34m.\u001b[0m\u001b[0mdivide\u001b[0m\u001b[0;34m(\u001b[0m\u001b[0;34m)\u001b[0m\u001b[0;34m)\u001b[0m\u001b[0;34m\u001b[0m\u001b[0;34m\u001b[0m\u001b[0m\n\u001b[0m",
            "\u001b[0;32m<ipython-input-2-def70f4dfac2>\u001b[0m in \u001b[0;36mdivide\u001b[0;34m(self)\u001b[0m\n\u001b[1;32m     21\u001b[0m \u001b[0;34m\u001b[0m\u001b[0m\n\u001b[1;32m     22\u001b[0m   \u001b[0;32mdef\u001b[0m \u001b[0mdivide\u001b[0m\u001b[0;34m(\u001b[0m\u001b[0mself\u001b[0m\u001b[0;34m)\u001b[0m\u001b[0;34m:\u001b[0m\u001b[0;34m\u001b[0m\u001b[0;34m\u001b[0m\u001b[0m\n\u001b[0;32m---> 23\u001b[0;31m     \u001b[0;32mreturn\u001b[0m \u001b[0mself\u001b[0m\u001b[0;34m.\u001b[0m\u001b[0mop1\u001b[0m \u001b[0;34m/\u001b[0m \u001b[0mself\u001b[0m\u001b[0;34m.\u001b[0m\u001b[0mop2\u001b[0m\u001b[0;34m\u001b[0m\u001b[0;34m\u001b[0m\u001b[0m\n\u001b[0m\u001b[1;32m     24\u001b[0m \u001b[0;34m\u001b[0m\u001b[0m\n\u001b[1;32m     25\u001b[0m \u001b[0mcalc\u001b[0m \u001b[0;34m=\u001b[0m \u001b[0mCalculadora\u001b[0m\u001b[0;34m(\u001b[0m\u001b[0;36m5\u001b[0m\u001b[0;34m,\u001b[0m \u001b[0;36m6\u001b[0m\u001b[0;34m)\u001b[0m\u001b[0;34m\u001b[0m\u001b[0;34m\u001b[0m\u001b[0m\n",
            "\u001b[0;31mZeroDivisionError\u001b[0m: division by zero"
          ]
        }
      ]
    },
    {
      "cell_type": "code",
      "source": [
        "class Calculadora:\n",
        "  def __init__(self, op1, op2):\n",
        "    self.op1 = op1\n",
        "    self.op2 = op2\n",
        "\n",
        "  @property\n",
        "  def op1(self):\n",
        "    return self.__op1\n",
        "\n",
        "  @op1.setter\n",
        "  def op1(self, x):\n",
        "    self.__op1 = x\n",
        "\n",
        "  @property\n",
        "  def op2(self):\n",
        "    return self.__op2\n",
        "\n",
        "  @op2.setter\n",
        "  def op2(self, x):\n",
        "    self.__op2 = x \n",
        "\n",
        "  def divide(self):\n",
        "    if(self.op1 % self.op2 != 0):\n",
        "      raise Exception(\"La division ha de ser entera\")\n",
        "    return self.op1 / self.op2\n",
        "\n",
        "def main():\n",
        "  try:\n",
        "    calc = Calculadora(10, 2)\n",
        "    print(calc.divide())\n",
        "    calc.op2 = 0\n",
        "    print(calc.divide())\n",
        "  except ZeroDivisionError:\n",
        "    print(\"Error: El divisor es 0\")\n",
        "  except :\n",
        "    print(\"Error Inesperado\")\n",
        "  finally:\n",
        "    print(\"Fin de ejecucion\")\n",
        "\n",
        "main()"
      ],
      "metadata": {
        "colab": {
          "base_uri": "https://localhost:8080/",
          "height": 415
        },
        "id": "K7Wtj_kQO8Sk",
        "outputId": "5cc4f812-e186-4580-a333-451eba19c07b"
      },
      "execution_count": null,
      "outputs": [
        {
          "output_type": "stream",
          "name": "stdout",
          "text": [
            "5.0\n",
            "Error: El divisor es 0\n",
            "Fin de ejecucion\n"
          ]
        },
        {
          "output_type": "error",
          "ename": "ZeroDivisionError",
          "evalue": "ignored",
          "traceback": [
            "\u001b[0;31m---------------------------------------------------------------------------\u001b[0m",
            "\u001b[0;31mZeroDivisionError\u001b[0m                         Traceback (most recent call last)",
            "\u001b[0;32m<ipython-input-8-bd8a0442244e>\u001b[0m in \u001b[0;36m<module>\u001b[0;34m()\u001b[0m\n\u001b[1;32m     39\u001b[0m     \u001b[0mprint\u001b[0m\u001b[0;34m(\u001b[0m\u001b[0;34m\"Fin de ejecucion\"\u001b[0m\u001b[0;34m)\u001b[0m\u001b[0;34m\u001b[0m\u001b[0;34m\u001b[0m\u001b[0m\n\u001b[1;32m     40\u001b[0m \u001b[0;34m\u001b[0m\u001b[0m\n\u001b[0;32m---> 41\u001b[0;31m \u001b[0mmain\u001b[0m\u001b[0;34m(\u001b[0m\u001b[0;34m)\u001b[0m\u001b[0;34m\u001b[0m\u001b[0;34m\u001b[0m\u001b[0m\n\u001b[0m",
            "\u001b[0;32m<ipython-input-8-bd8a0442244e>\u001b[0m in \u001b[0;36mmain\u001b[0;34m()\u001b[0m\n\u001b[1;32m     30\u001b[0m     \u001b[0mprint\u001b[0m\u001b[0;34m(\u001b[0m\u001b[0mcalc\u001b[0m\u001b[0;34m.\u001b[0m\u001b[0mdivide\u001b[0m\u001b[0;34m(\u001b[0m\u001b[0;34m)\u001b[0m\u001b[0;34m)\u001b[0m\u001b[0;34m\u001b[0m\u001b[0;34m\u001b[0m\u001b[0m\n\u001b[1;32m     31\u001b[0m     \u001b[0mcalc\u001b[0m\u001b[0;34m.\u001b[0m\u001b[0mop2\u001b[0m \u001b[0;34m=\u001b[0m \u001b[0;36m0\u001b[0m\u001b[0;34m\u001b[0m\u001b[0;34m\u001b[0m\u001b[0m\n\u001b[0;32m---> 32\u001b[0;31m     \u001b[0mprint\u001b[0m\u001b[0;34m(\u001b[0m\u001b[0mcalc\u001b[0m\u001b[0;34m.\u001b[0m\u001b[0mdivide\u001b[0m\u001b[0;34m(\u001b[0m\u001b[0;34m)\u001b[0m\u001b[0;34m)\u001b[0m\u001b[0;34m\u001b[0m\u001b[0;34m\u001b[0m\u001b[0m\n\u001b[0m\u001b[1;32m     33\u001b[0m   \u001b[0;32mexcept\u001b[0m \u001b[0mZeroDivisionError\u001b[0m\u001b[0;34m:\u001b[0m\u001b[0;34m\u001b[0m\u001b[0;34m\u001b[0m\u001b[0m\n\u001b[1;32m     34\u001b[0m     \u001b[0mprint\u001b[0m\u001b[0;34m(\u001b[0m\u001b[0;34m\"Error: El divisor es 0\"\u001b[0m\u001b[0;34m)\u001b[0m\u001b[0;34m\u001b[0m\u001b[0;34m\u001b[0m\u001b[0m\n",
            "\u001b[0;32m<ipython-input-8-bd8a0442244e>\u001b[0m in \u001b[0;36mdivide\u001b[0;34m(self)\u001b[0m\n\u001b[1;32m     21\u001b[0m \u001b[0;34m\u001b[0m\u001b[0m\n\u001b[1;32m     22\u001b[0m   \u001b[0;32mdef\u001b[0m \u001b[0mdivide\u001b[0m\u001b[0;34m(\u001b[0m\u001b[0mself\u001b[0m\u001b[0;34m)\u001b[0m\u001b[0;34m:\u001b[0m\u001b[0;34m\u001b[0m\u001b[0;34m\u001b[0m\u001b[0m\n\u001b[0;32m---> 23\u001b[0;31m     \u001b[0;32mif\u001b[0m\u001b[0;34m(\u001b[0m\u001b[0mself\u001b[0m\u001b[0;34m.\u001b[0m\u001b[0mop1\u001b[0m \u001b[0;34m%\u001b[0m \u001b[0mself\u001b[0m\u001b[0;34m.\u001b[0m\u001b[0mop2\u001b[0m \u001b[0;34m!=\u001b[0m \u001b[0;36m0\u001b[0m\u001b[0;34m)\u001b[0m\u001b[0;34m:\u001b[0m\u001b[0;34m\u001b[0m\u001b[0;34m\u001b[0m\u001b[0m\n\u001b[0m\u001b[1;32m     24\u001b[0m       \u001b[0;32mraise\u001b[0m \u001b[0mException\u001b[0m\u001b[0;34m(\u001b[0m\u001b[0;34m\"La division ha de ser entera\"\u001b[0m\u001b[0;34m)\u001b[0m\u001b[0;34m\u001b[0m\u001b[0;34m\u001b[0m\u001b[0m\n\u001b[1;32m     25\u001b[0m     \u001b[0;32mreturn\u001b[0m \u001b[0mself\u001b[0m\u001b[0;34m.\u001b[0m\u001b[0mop1\u001b[0m \u001b[0;34m/\u001b[0m \u001b[0mself\u001b[0m\u001b[0;34m.\u001b[0m\u001b[0mop2\u001b[0m\u001b[0;34m\u001b[0m\u001b[0;34m\u001b[0m\u001b[0m\n",
            "\u001b[0;31mZeroDivisionError\u001b[0m: integer division or modulo by zero"
          ]
        }
      ]
    },
    {
      "cell_type": "markdown",
      "source": [
        "### Aserciones\n",
        "Las aserciones se utilizan para comprobar que cierta condición se cumple antes de proseguir. Cuando una aserción se cumple no pasa nada, pero si falla se lanza una excepcion del tipo AssertionError."
      ],
      "metadata": {
        "id": "_EFnQfTqEG8W"
      }
    },
    {
      "cell_type": "code",
      "source": [
        "def divide(a, b):\n",
        "  assert(b != 0)\n",
        "  return a/b\n",
        "\n",
        "try:\n",
        "  num1 = int( input( \"Valor: \" ) )\n",
        "  num2 = int( input( \"Valor: \" ) )\n",
        "  print(\"Resultado: {0:5.2f}\".format(divide(num1, num2)))\n",
        "except AssertionError:\n",
        "  print(\"\\nERROR - divisor es cero\" )\n",
        "except (ValueError, NameError, KeyboardInterrupt):\n",
        "  print(\"\\nERROR - numbers needed\" )\n",
        "except Exception as exc:\n",
        "  print(\"\\nERROR – inesperado: '{0}'\".format(exc))\n",
        "finally:\n",
        "  print( \"\\n\" )"
      ],
      "metadata": {
        "colab": {
          "base_uri": "https://localhost:8080/"
        },
        "id": "EoKfZeYVSA5K",
        "outputId": "3138674d-c283-48ac-8e05-373a9117f55c"
      },
      "execution_count": null,
      "outputs": [
        {
          "output_type": "stream",
          "name": "stdout",
          "text": [
            "Valor: 1\n",
            "Valor: 0\n",
            "\n",
            "ERROR - divisor es cero\n",
            "\n",
            "\n"
          ]
        }
      ]
    },
    {
      "cell_type": "markdown",
      "source": [
        "#Archivos\n",
        "Para abrir un archivo en python se utiliza la funcion open(). El primer parámetro es una cadena, que representa el nombre del archivo. El segundo es el modo en el que abrir el archivo. Los modos son los siguientes: t-> texto, b-> binario, r-> lectura, w->escritura, a-> añadir al final. La función open devuelve un objeto de tipo archivo, sobre el que se pueden utilizar las funciones write() y read(). "
      ],
      "metadata": {
        "id": "fNqyTpi7S8me"
      }
    },
    {
      "cell_type": "code",
      "source": [
        "def escribe_archivo(nombre_archivo, datos):\n",
        "  f = open(nombre_archivo, \"wt\")\n",
        "  f.write(datos)\n",
        "  f.close()\n",
        "\n",
        "def lee_archivo(nombre_archivo):\n",
        "  f = open(nombre_archivo, \"r\")\n",
        "  return f.readlines()"
      ],
      "metadata": {
        "id": "HGtvEF0yWNhv"
      },
      "execution_count": null,
      "outputs": []
    },
    {
      "cell_type": "markdown",
      "source": [
        "File.readlines es muy cómodo ya que lee todo el archivo del tirón. Pero usarlo en proyectos grandes no suele ser muy buena práctica ya que carga todo el archivo en memoria. De la siguiente manera podemos ir cargando linea a linea del archivo en memoria. "
      ],
      "metadata": {
        "id": "oCWkdfQLWo0b"
      }
    },
    {
      "cell_type": "code",
      "source": [
        "def lee_archivo(nombre_archivo):\n",
        "  f = open(nombre_archivo, \"r\")\n",
        "  toret = []\n",
        "  for linea in f:\n",
        "    tore.append(linea)\n",
        "  return toret"
      ],
      "metadata": {
        "id": "oRDaEzygXOax"
      },
      "execution_count": null,
      "outputs": []
    },
    {
      "cell_type": "markdown",
      "source": [
        "La construcción with permite gestionar la apertura y cierre del archivo de forma automática. Esto evita que el programador tenga que utilizar la función close() y así se gestionen mejor los recursos del programa"
      ],
      "metadata": {
        "id": "l3KY02fFXLYU"
      }
    },
    {
      "cell_type": "code",
      "source": [
        "# files\n",
        "import os\n",
        "def escribe_archivo(nombre_archivo, datos):\n",
        "  with open(nombre_archivo, \"wt\") as f:\n",
        "    f.write(datos)\n",
        "\n",
        "def lee_archivo(nombre_archivo):\n",
        "  with open(nombre_archivo, \"r\") as f:\n",
        "    lineas = f.readlines()\n",
        "  return lineas\n",
        "\n",
        "if __name__ == \"__main__\":\n",
        "  if not(os.path.isfile(\"datos.txt\")):\n",
        "    escribe_archivo(\"datos.txt\", \"Hola, mundo!\")\n",
        "  for l in lee_archivo(\"datos.txt\"):\n",
        "    print(l)"
      ],
      "metadata": {
        "colab": {
          "base_uri": "https://localhost:8080/"
        },
        "id": "Ff79BMtlXuCy",
        "outputId": "ea1e7a28-7dc6-42f0-affb-ba65c1492f9b"
      },
      "execution_count": null,
      "outputs": [
        {
          "output_type": "stream",
          "name": "stdout",
          "text": [
            "Hola, mundo!\n"
          ]
        }
      ]
    },
    {
      "cell_type": "markdown",
      "source": [
        "Existen librerías que automatizan este proceso para los formatos de datos más habituales, como pueden ser el XML o el JSON."
      ],
      "metadata": {
        "id": "8ipl1I59X9nq"
      }
    },
    {
      "cell_type": "markdown",
      "source": [
        "# Problema\n",
        "Escribe un programa que lea de un archivo de texto en formato darknet yolo y devuelva una lista de objetos etiquetaImagen. El archivo a leer se puede generar con la siguiente función."
      ],
      "metadata": {
        "id": "62gyKOjSYWyw"
      }
    },
    {
      "cell_type": "code",
      "source": [
        "import os\n",
        "def escribe_Yolo():\n",
        "  with open(\"tag_0001.txt\", \"wt\") as f:\n",
        "    f.write(\"\"\"0 0.120343 0.323204 0.080882 0.200737\n",
        "0 0.385539 0.283610 0.065196 0.173112\n",
        "0 0.325000 0.645948 0.124510 0.404236\n",
        "0 0.437990 0.610958 0.112255 0.389503\n",
        "0 0.739706 0.424954 0.091176 0.256906\n",
        "1 0.324020 0.437845 0.070588 0.267956\n",
        "1 0.384559 0.459024 0.045588 0.282689\n",
        "1 0.680637 0.337477 0.043627 0.197974\"\"\")\n",
        "\n"
      ],
      "metadata": {
        "id": "0oOmNMbwYyIw"
      },
      "execution_count": 13,
      "outputs": []
    }
  ]
}