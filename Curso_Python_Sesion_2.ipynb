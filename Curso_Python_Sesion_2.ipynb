{
  "cells": [
    {
      "cell_type": "markdown",
      "metadata": {
        "colab_type": "text",
        "id": "view-in-github"
      },
      "source": [
        "<a href=\"https://colab.research.google.com/github/ElBley/cursoPython/blob/main/Curso_Python_Sesion_2.ipynb\" target=\"_parent\"><img src=\"https://colab.research.google.com/assets/colab-badge.svg\" alt=\"Open In Colab\"/></a>"
      ]
    },
    {
      "cell_type": "markdown",
      "metadata": {
        "id": "NXKOCQdB8ezc"
      },
      "source": [
        "# Estructuras de Datos"
      ]
    },
    {
      "cell_type": "markdown",
      "metadata": {
        "id": "aUvzgwowNgSa"
      },
      "source": [
        "## Problema\n",
        "Crea la función interrogaClase que devuelva 2 listas: una de métodos y otra de atributos de una clase concreta (por ejemplo math)."
      ]
    },
    {
      "cell_type": "code",
      "execution_count": null,
      "metadata": {},
      "outputs": [],
      "source": [
        "import math\n",
        "def interrogaClase(clase):\n",
        "    metodos = dir(clase)\n",
        "    atributos = vars(clase)\n",
        "    \n",
        "    lista = [metodos, atributos]\n",
        "    \n",
        "    return lista\n",
        "    \n",
        "listaImprimir = interrogaClase(math)\n",
        "print(listaImprimir)"
      ]
    },
    {
      "cell_type": "markdown",
      "metadata": {
        "id": "62gyKOjSYWyw"
      },
      "source": [
        "# Problema\n",
        "Escribe un programa que lea de un archivo de texto en formato darknet yolo y devuelva una lista de objetos etiquetaImagen. El archivo a leer se puede generar con la siguiente función."
      ]
    },
    {
      "cell_type": "code",
      "execution_count": null,
      "metadata": {
        "id": "0oOmNMbwYyIw"
      },
      "outputs": [],
      "source": [
        "import os\n",
        "def escribe_Yolo():\n",
        "  with open(\"tag_0001.txt\", \"wt\") as f:\n",
        "    f.write(\"\"\"0 0.120343 0.323204 0.080882 0.200737\n",
        "0 0.385539 0.283610 0.065196 0.173112\n",
        "0 0.325000 0.645948 0.124510 0.404236\n",
        "0 0.437990 0.610958 0.112255 0.389503\n",
        "0 0.739706 0.424954 0.091176 0.256906\n",
        "1 0.324020 0.437845 0.070588 0.267956\n",
        "1 0.384559 0.459024 0.045588 0.282689\n",
        "1 0.680637 0.337477 0.043627 0.197974\"\"\")\n",
        "\n",
        "#Contando con las definiciones anteriores de las clases necesarias para instanciar\n",
        "#darknetYOLO, añadimos las siguientes lineas\n",
        "\n",
        "listaYOLO = []\n",
        "#Se podria hacer en muchas menos lineas, pero asi queda mas claro\n",
        "for line in lee_archivo(\"tag_0001.txt\"):\n",
        "    linea_suelta = line.strip()\n",
        "    lista_elementos = linea_suelta.split()\n",
        "    clase = str(lista_elementos[0])\n",
        "    x = lista_elementos[1]\n",
        "    y = lista_elementos[2] \n",
        "    height = lista_elementos[3]\n",
        "    width = lista_elementos[4]\n",
        "    instancia = darknetYOLO(clase,x,y,height, width)\n",
        "    listaYOLO.append(instancia)\n",
        "\n",
        "for element in listaYOLO:\n",
        "    print(element)"
      ]
    },
    {
      "cell_type": "markdown",
      "metadata": {
        "id": "2sUotAW3ZpUu"
      },
      "source": [
        "# Problema\n",
        "Escribe una función que a partir de una lista de conos etiquetaImagen devuelva una lista de la distancia a la que se encuentran dichos conos. Puedes asumir que las etiquetas están en formato darknet yolo y que los conos tienen el tamaño estándar para conducción autónoma definido por la FSG."
      ]
    },
    {
      "cell_type": "code",
      "execution_count": null,
      "metadata": {},
      "outputs": [],
      "source": [
        "#No se ha tenido en cuenta el tamaño de los conos, si no su punto central\n",
        "def distanciaConos(lista):\n",
        "    listaDistancias = []\n",
        "    for l in lista:\n",
        "        lista2 = lista[lista.index(l):len(lista)]\n",
        "        for l2 in lista2:\n",
        "            X1 = float(l.x)\n",
        "            X2 = float(l2.x)\n",
        "            Y1 = float(l.y)\n",
        "            Y2 = float(l2.y)\n",
        "            distX = (X2-X1)**2\n",
        "            distY = (Y2-Y1)**2\n",
        "            distancia = math.sqrt(distX + distY)\n",
        "            listaDistancias.append(distancia)\n",
        "\n",
        "    print(listaDistancias)   \n",
        "\n",
        "distanciaConos(listaYOLO)"
      ]
    }
  ],
  "metadata": {
    "colab": {
      "authorship_tag": "ABX9TyNZRUYSV1CxCPI0vh8qCDDz",
      "collapsed_sections": [],
      "include_colab_link": true,
      "name": "Curso Python Sesion 2",
      "provenance": [],
      "toc_visible": true
    },
    "kernelspec": {
      "display_name": "Python 3",
      "name": "python3"
    },
    "language_info": {
      "name": "python"
    }
  },
  "nbformat": 4,
  "nbformat_minor": 0
}
