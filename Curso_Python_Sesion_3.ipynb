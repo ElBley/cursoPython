{
  "cells": [
    {
      "cell_type": "markdown",
      "metadata": {
        "colab_type": "text",
        "id": "view-in-github"
      },
      "source": [
        "<a href=\"https://colab.research.google.com/github/ElBley/cursoPython/blob/main/Curso_Python_Sesion_3.ipynb\" target=\"_parent\"><img src=\"https://colab.research.google.com/assets/colab-badge.svg\" alt=\"Open In Colab\"/></a>"
      ]
    },
    {
      "cell_type": "markdown",
      "metadata": {
        "id": "RuaMscQlmnv9"
      },
      "source": [
        "# Numpy"
      ]
    },
    {
      "cell_type": "markdown",
      "metadata": {
        "id": "zF7TD2maqMVs"
      },
      "source": [
        "## Problema\n",
        "Realiza los siguentes apartados de manejo de slices en arrays numpy:\n",
        "1. Primero, cra un array de 4x4 con valores arbitrarios\n",
        "2. Extrae todos los elementos de la segunda fila.\n",
        "3. Extrae todos los elementos de la tercera columna.\n",
        "4. Asigna un valor de 0.21 a la sumatriz superior izquierdo 2x2.\n",
        "5. Cra una array de 8x8 con un patrón de tablero de ajedrez, alternando ceros y unos:"
      ]
    },
    {
      "cell_type": "code",
      "execution_count": null,
      "metadata": {},
      "outputs": [],
      "source": [
        "import numpy as np\n",
        "from numpy.random import default_rng\n",
        "\n",
        "#Apartado 1\n",
        "a1 = default_rng(42).random((4,4))\n",
        "print(a1)\n",
        "\n",
        "#Apartado 2\n",
        "segunda_columna = a1[2]\n",
        "print(segunda_columna)\n",
        "\n",
        "#Apartado 3\n",
        "tercera_columna = a1[:,2]\n",
        "print(tercera_columna)\n",
        "\n",
        "#Apartado 4\n",
        "a1[np.array([0, 1]), np.array([2, 3])] = 0.21\n",
        "a1[np.array([0, 1]), np.array([3, 2])] = 0.21\n",
        "print(a1[np.array([0, 1]), np.array([2, 3])] )\n",
        "\n",
        "#Apartado 5\n",
        "A = np.eye(2, 2)\n",
        "B = np.block([[A,A], [A,A]])\n",
        "print(np.block([[B, B], [B,B]]))"
      ]
    },
    {
      "cell_type": "markdown",
      "metadata": {
        "id": "29HR71ustR9P"
      },
      "source": [
        "#Problema\n",
        "Calcule la integral de la función f (x) = sin (x) en el intervalo [0, π / 2] mediante la suma de riemman y mediante scipy investigue en qué medida se difieren.\n",
        "Haga dos funciones, una con un bucle for y otra sin bucles for.\n",
        "Mida el tiempo para cada uno en función de la elección de Delta X\n",
        "Para medir los tiempos se puede utilizar el función process_time() de la librería time."
      ]
    },
    {
      "cell_type": "markdown",
      "metadata": {
        "id": "JzCDxE-qsI8Y"
      },
      "source": [
        "### Problema \n",
        "Imprime la misma imagen del mapache 3 veces, una donde se vea sólo el componente rojo, otra el azul y otra el verde."
      ]
    },
    {
      "cell_type": "code",
      "execution_count": null,
      "metadata": {},
      "outputs": [],
      "source": [
        "from scipy import misc\n",
        "import matplotlib.pyplot as plt\n",
        "%matplotlib inline\n",
        "\n",
        "#img = misc.face() ## imagen para pruebas que ofrece scipy\n",
        "print(type(img))\n",
        "#Para imprimir cada componente, deberiamos poner a cero todas las demas,\n",
        "#en este ejercicio, no pude modificar el archivo original, por lo que no esta realizado\n",
        "img[:,:,0] = 0\n",
        "img[:,:,1] = 0\n",
        "\n",
        "plt.imshow(img)\n",
        "plt.show()"
      ]
    },
    {
      "cell_type": "markdown",
      "metadata": {
        "id": "n3i9Qzq7_X8C"
      },
      "source": [
        "## Problema\n",
        "Realiza este mismo proceso de la imagen del mapache, pero con los tres canales. Las operaciones no pueden realizarse en cada canal idependientemente y luego juntarse, si no que es necesario que se realizen grupalmente. \n",
        "\n",
        "*Nota* Para varias operaciones de numpy como el svd es necesario que el array tenga una estructura determinada, indicando en ciertos sitios el número de dimensiones, por lo que puede ser necesario trasponer o permutar alguna matriz antes de realizar la operacion. Consultad la documentación de numpy para ver exactamente cómo funciona cada operador."
      ]
    },
    {
      "cell_type": "code",
      "execution_count": null,
      "metadata": {},
      "outputs": [],
      "source": [
        "#Ejercicio 4\n",
        "#Sin el ejercicio anterior, no puedo realizar este"
      ]
    }
  ],
  "metadata": {
    "colab": {
      "authorship_tag": "ABX9TyPCYSoSIbmhNPbqrLuCveKP",
      "include_colab_link": true,
      "name": "Curso Python Sesion 3",
      "provenance": [],
      "toc_visible": true
    },
    "kernelspec": {
      "display_name": "Python 3",
      "name": "python3"
    },
    "language_info": {
      "name": "python"
    }
  },
  "nbformat": 4,
  "nbformat_minor": 0
}
